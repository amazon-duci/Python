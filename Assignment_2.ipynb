{
 "cells": [
  {
   "cell_type": "markdown",
   "id": "6a4d8bda-ad1c-4f3d-958b-9548d2d870e1",
   "metadata": {},
   "source": [
    "# Market Bargain Problem"
   ]
  },
  {
   "cell_type": "code",
   "execution_count": 14,
   "id": "5346fe22-028b-4e5d-8f18-15db69ee4a70",
   "metadata": {},
   "outputs": [
    {
     "name": "stdin",
     "output_type": "stream",
     "text": [
      "How many prices of items are expected to be in the list?  7\n",
      "\n",
      "Enter the price of Item 1:  10\n",
      "\n",
      "Enter the price of Item 2:  20\n",
      "\n",
      "Enter the price of Item 3:  30\n",
      "\n",
      "Enter the price of Item 4:  40\n",
      "\n",
      "Enter the price of Item 5:  50\n",
      "\n",
      "Enter the price of Item 6:  60\n",
      "\n",
      "Enter the price of Item 7:  70\n"
     ]
    },
    {
     "name": "stdout",
     "output_type": "stream",
     "text": [
      "\n",
      "Number of valid Triangles: 24\n"
     ]
    }
   ],
   "source": [
    "noOfItem = int(input(\"How many prices of items are expected to be in the list? \"))\n",
    "itemPrices = []\n",
    "combo = []\n",
    "count = 0\n",
    "\n",
    "# Collect prices of items\n",
    "while count < noOfItem:\n",
    "    price = float(input(f\"\\nEnter the price of Item {count+1}: \"))\n",
    "    if price not in itemPrices:  # Since each item has a unique price (no item shares same price)\n",
    "        itemPrices.append(price)\n",
    "        count += 1\n",
    "    else:\n",
    "        print(f\"Item with {price} as price already exist in the list\")\n",
    "\n",
    "# Check all unique combinations of 3 item prices without considering positions\n",
    "for priceA in itemPrices:\n",
    "    for priceB in itemPrices:\n",
    "        for priceC in itemPrices:\n",
    "            if priceA != priceB and priceA != priceC and priceB != priceC:\n",
    "                if (priceA + priceB + priceC) == 100:\n",
    "                    combo.append((priceA, priceB, priceC))\n",
    "                    \n",
    "# print(combo)\n",
    "# print(f\"\\nitems = {itemPrices}\")\n",
    "print(f\"\\nNumber of valid Triangles: {len(combo)}\")"
   ]
  },
  {
   "cell_type": "code",
   "execution_count": null,
   "id": "e691c846-cf4b-4c80-bd1d-ca2276be80cd",
   "metadata": {},
   "outputs": [],
   "source": []
  }
 ],
 "metadata": {
  "kernelspec": {
   "display_name": "Python 3 (ipykernel)",
   "language": "python",
   "name": "python3"
  },
  "language_info": {
   "codemirror_mode": {
    "name": "ipython",
    "version": 3
   },
   "file_extension": ".py",
   "mimetype": "text/x-python",
   "name": "python",
   "nbconvert_exporter": "python",
   "pygments_lexer": "ipython3",
   "version": "3.12.7"
  }
 },
 "nbformat": 4,
 "nbformat_minor": 5
}
