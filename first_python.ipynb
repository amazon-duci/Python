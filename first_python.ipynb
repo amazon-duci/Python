{
 "cells": [
  {
   "cell_type": "code",
   "execution_count": 1,
   "id": "94712085-a2ab-4f8f-9a5d-27b0963dfc52",
   "metadata": {},
   "outputs": [
    {
     "name": "stdout",
     "output_type": "stream",
     "text": [
      "Hello \"he said\" world's\n"
     ]
    }
   ],
   "source": [
    "print(\"Hello \\\"he said\\\" world's\")"
   ]
  },
  {
   "cell_type": "code",
   "execution_count": 2,
   "id": "67821912-c292-4798-8ceb-badfb797f7f5",
   "metadata": {},
   "outputs": [
    {
     "data": {
      "text/plain": [
       "802"
      ]
     },
     "execution_count": 2,
     "metadata": {},
     "output_type": "execute_result"
    }
   ],
   "source": [
    "800 ^ 2"
   ]
  },
  {
   "cell_type": "code",
   "execution_count": 3,
   "id": "3e726975-a9ed-4e0e-ad74-b71cb769f7b4",
   "metadata": {},
   "outputs": [],
   "source": [
    "a = 10\n",
    "b = 3"
   ]
  },
  {
   "cell_type": "code",
   "execution_count": 4,
   "id": "6c4c6777-c08a-4de3-b1ae-5cac38795823",
   "metadata": {},
   "outputs": [
    {
     "name": "stdout",
     "output_type": "stream",
     "text": [
      "13 7 3.3333333333333335 1 1000 3\n"
     ]
    }
   ],
   "source": [
    "# some mathematical operations\n",
    "# addition, subtraction, division, modulus, exponential, quotient\n",
    "print(a+b, a-b, a/b, a%b, a**b, a//b)"
   ]
  },
  {
   "cell_type": "code",
   "execution_count": 5,
   "id": "63def01b-175f-44a6-80a8-68304cd1bf51",
   "metadata": {},
   "outputs": [],
   "source": [
    "# Area of a triangle\n",
    "\n",
    "# Half base * height\n",
    "\n",
    "base = 10\n",
    "height = 15"
   ]
  },
  {
   "cell_type": "code",
   "execution_count": 6,
   "id": "f8cd8d14-6c54-4c0e-b5e2-8f8dabc9a22f",
   "metadata": {},
   "outputs": [
    {
     "data": {
      "text/plain": [
       "75.0"
      ]
     },
     "execution_count": 6,
     "metadata": {},
     "output_type": "execute_result"
    }
   ],
   "source": [
    "(1/2 * base) * height"
   ]
  },
  {
   "cell_type": "code",
   "execution_count": 7,
   "id": "e03957fd-fc69-451e-ac79-adb4cddea51a",
   "metadata": {},
   "outputs": [
    {
     "data": {
      "text/plain": [
       "40091.165714285715"
      ]
     },
     "execution_count": 7,
     "metadata": {},
     "output_type": "execute_result"
    }
   ],
   "source": [
    "pi = 22/7\n",
    "r = 6378.14\n",
    "\n",
    "# circumference = 2 pie r\n",
    "2 * pi * r"
   ]
  },
  {
   "cell_type": "code",
   "execution_count": null,
   "id": "5a63dc5a-2ac6-4579-a46f-0225b24112b0",
   "metadata": {},
   "outputs": [],
   "source": []
  },
  {
   "cell_type": "code",
   "execution_count": 8,
   "id": "6bf7f2fa-5f0d-4797-a2f0-327d8a5095c7",
   "metadata": {},
   "outputs": [
    {
     "name": "stdout",
     "output_type": "stream",
     "text": [
      "0  >>>>> Even Number\n",
      "1\n",
      "2  >>>>> Even Number\n",
      "3\n",
      "4  >>>>> Even Number\n",
      "5\n",
      "6  >>>>> Even Number\n",
      "7\n",
      "8  >>>>> Even Number\n",
      "9\n",
      "10  >>>>> Even Number\n",
      "11\n",
      "12  >>>>> Even Number\n",
      "13\n",
      "14  >>>>> Even Number\n",
      "15\n",
      "16  >>>>> Even Number\n",
      "17\n",
      "18  >>>>> Even Number\n",
      "19\n"
     ]
    }
   ],
   "source": [
    "z = 2\n",
    "for i in range(20):\n",
    "    if(i%z == 0):\n",
    "        print(i, \" >>>>> Even Number\")\n",
    "    else:\n",
    "        print(i)"
   ]
  },
  {
   "cell_type": "code",
   "execution_count": 9,
   "id": "ec73c9d6-0a65-419a-aedb-4b4d0d842642",
   "metadata": {},
   "outputs": [
    {
     "data": {
      "text/plain": [
       "False"
      ]
     },
     "execution_count": 9,
     "metadata": {},
     "output_type": "execute_result"
    }
   ],
   "source": [
    "# comparison \n",
    "\n",
    "#equal\n",
    "a == b"
   ]
  },
  {
   "cell_type": "code",
   "execution_count": 10,
   "id": "90004d70-b98c-4a1f-8c4e-a5dae75e9d5b",
   "metadata": {},
   "outputs": [
    {
     "data": {
      "text/plain": [
       "True"
      ]
     },
     "execution_count": 10,
     "metadata": {},
     "output_type": "execute_result"
    }
   ],
   "source": [
    "# not equal\n",
    "a != b"
   ]
  },
  {
   "cell_type": "code",
   "execution_count": 11,
   "id": "8eda4298-2da9-4001-b3d3-6359a8dc5f8a",
   "metadata": {},
   "outputs": [
    {
     "data": {
      "text/plain": [
       "True"
      ]
     },
     "execution_count": 11,
     "metadata": {},
     "output_type": "execute_result"
    }
   ],
   "source": [
    "#  Greater than\n",
    "a > b"
   ]
  },
  {
   "cell_type": "code",
   "execution_count": 12,
   "id": "3f9a29be-0418-4195-b61f-663d849643b0",
   "metadata": {},
   "outputs": [
    {
     "data": {
      "text/plain": [
       "False"
      ]
     },
     "execution_count": 12,
     "metadata": {},
     "output_type": "execute_result"
    }
   ],
   "source": [
    "#  less than\n",
    "a < b"
   ]
  },
  {
   "cell_type": "code",
   "execution_count": 13,
   "id": "c1e230a1-6c92-42c3-90cd-1351c1df9b19",
   "metadata": {},
   "outputs": [
    {
     "data": {
      "text/plain": [
       "True"
      ]
     },
     "execution_count": 13,
     "metadata": {},
     "output_type": "execute_result"
    }
   ],
   "source": [
    "#  Greater or equal to\n",
    "a >= b"
   ]
  },
  {
   "cell_type": "code",
   "execution_count": 14,
   "id": "ffea66a2-0142-4427-89ad-610ade1ea10d",
   "metadata": {},
   "outputs": [
    {
     "data": {
      "text/plain": [
       "False"
      ]
     },
     "execution_count": 14,
     "metadata": {},
     "output_type": "execute_result"
    }
   ],
   "source": [
    "#  less or equal to\n",
    "a <= b"
   ]
  },
  {
   "cell_type": "code",
   "execution_count": 15,
   "id": "ed53dd06-a5c9-4ed0-8f70-cf436ed8a0d9",
   "metadata": {},
   "outputs": [
    {
     "data": {
      "text/plain": [
       "False"
      ]
     },
     "execution_count": 15,
     "metadata": {},
     "output_type": "execute_result"
    }
   ],
   "source": [
    "present_year = 2025\n",
    "woman = 1983\n",
    "age = present_year - woman\n",
    "adulthood = 47\n",
    "\n",
    "adulthood <= age"
   ]
  },
  {
   "cell_type": "code",
   "execution_count": 16,
   "id": "aec9dc80-cddf-4f9f-914c-fdd7c65892c6",
   "metadata": {},
   "outputs": [
    {
     "data": {
      "text/plain": [
       "42"
      ]
     },
     "execution_count": 16,
     "metadata": {},
     "output_type": "execute_result"
    }
   ],
   "source": [
    "age"
   ]
  },
  {
   "cell_type": "code",
   "execution_count": 17,
   "id": "5254e5fd-b6d3-484b-831f-eaed3bdbf3a3",
   "metadata": {},
   "outputs": [
    {
     "data": {
      "text/plain": [
       "True"
      ]
     },
     "execution_count": 17,
     "metadata": {},
     "output_type": "execute_result"
    }
   ],
   "source": [
    "a > 5 and b < 5\n"
   ]
  },
  {
   "cell_type": "code",
   "execution_count": 18,
   "id": "6a8a3530-5042-4c54-a577-77b0dc9f1978",
   "metadata": {},
   "outputs": [
    {
     "data": {
      "text/plain": [
       "True"
      ]
     },
     "execution_count": 18,
     "metadata": {},
     "output_type": "execute_result"
    }
   ],
   "source": [
    "a > 5 or b > 5"
   ]
  },
  {
   "cell_type": "code",
   "execution_count": 19,
   "id": "b05a6d30-e023-4b0e-a40e-48bb7b174228",
   "metadata": {},
   "outputs": [
    {
     "data": {
      "text/plain": [
       "True"
      ]
     },
     "execution_count": 19,
     "metadata": {},
     "output_type": "execute_result"
    }
   ],
   "source": [
    "not (a < 5)"
   ]
  },
  {
   "cell_type": "markdown",
   "id": "e40bf705-e61e-4579-b100-cd5693849223",
   "metadata": {},
   "source": [
    "<h1> STRING MANIPULATION </h1>\n",
    "<p>String Manipulation is a class of problems where a user is asked to process a given string and use/change its data.</p>"
   ]
  },
  {
   "cell_type": "code",
   "execution_count": 20,
   "id": "137a3b9c-dd7a-4fb7-887f-e6aca1018921",
   "metadata": {},
   "outputs": [
    {
     "name": "stdout",
     "output_type": "stream",
     "text": [
      "Hello world!\n"
     ]
    }
   ],
   "source": [
    "my_string = \"Hello world!\"\n",
    "print(my_string)"
   ]
  },
  {
   "cell_type": "code",
   "execution_count": 21,
   "id": "4e8d006b-3721-424a-9db6-258919bf219f",
   "metadata": {},
   "outputs": [
    {
     "name": "stdout",
     "output_type": "stream",
     "text": [
      "hello, world!\n"
     ]
    }
   ],
   "source": [
    "str1 = \"hello,\"\n",
    "str2 = \"world!\"\n",
    "\n",
    "print(str1 + \" \" + str2)"
   ]
  },
  {
   "cell_type": "code",
   "execution_count": 22,
   "id": "2e75117f-2e5a-4138-a724-e05014f38103",
   "metadata": {},
   "outputs": [
    {
     "data": {
      "text/plain": [
       "'Hello world! Hello world! Hello world! '"
      ]
     },
     "execution_count": 22,
     "metadata": {},
     "output_type": "execute_result"
    }
   ],
   "source": [
    "(my_string + \" \") * 3"
   ]
  },
  {
   "cell_type": "markdown",
   "id": "d759a4c6-1630-4e86-ab8b-fab14271ca23",
   "metadata": {},
   "source": [
    "<h4>String Methods</h4>"
   ]
  },
  {
   "cell_type": "code",
   "execution_count": 23,
   "id": "2221aa1b-912e-4e4a-95c3-6c48c4e36fa2",
   "metadata": {},
   "outputs": [
    {
     "data": {
      "text/plain": [
       "12"
      ]
     },
     "execution_count": 23,
     "metadata": {},
     "output_type": "execute_result"
    }
   ],
   "source": [
    "len(my_string)"
   ]
  },
  {
   "cell_type": "code",
   "execution_count": 24,
   "id": "ddc6edab-a791-48e9-8e80-06456e7be51c",
   "metadata": {},
   "outputs": [
    {
     "data": {
      "text/plain": [
       "'HELLO WORLD!'"
      ]
     },
     "execution_count": 24,
     "metadata": {},
     "output_type": "execute_result"
    }
   ],
   "source": [
    "my_string.upper()"
   ]
  },
  {
   "cell_type": "code",
   "execution_count": 25,
   "id": "a02f480a-0aa0-4c93-a2e8-9ab187b47360",
   "metadata": {},
   "outputs": [
    {
     "data": {
      "text/plain": [
       "'hello world!'"
      ]
     },
     "execution_count": 25,
     "metadata": {},
     "output_type": "execute_result"
    }
   ],
   "source": [
    "my_string.lower()"
   ]
  },
  {
   "cell_type": "code",
   "execution_count": 26,
   "id": "384f0c09-598f-4479-84aa-79df5dd6abff",
   "metadata": {},
   "outputs": [
    {
     "data": {
      "text/plain": [
       "'Hello world!'"
      ]
     },
     "execution_count": 26,
     "metadata": {},
     "output_type": "execute_result"
    }
   ],
   "source": [
    "my_string.capitalize()"
   ]
  },
  {
   "cell_type": "markdown",
   "id": "2deadb1a-ca75-42aa-86d5-3daba93394b7",
   "metadata": {},
   "source": [
    "## Using Strip Function\n",
    "This removes extra spaces before and after a string literal"
   ]
  },
  {
   "cell_type": "code",
   "execution_count": 27,
   "id": "fe355d9e-d8e8-48e2-b887-5c6da71e151a",
   "metadata": {},
   "outputs": [
    {
     "data": {
      "text/plain": [
       "'   you  '"
      ]
     },
     "execution_count": 27,
     "metadata": {},
     "output_type": "execute_result"
    }
   ],
   "source": [
    "text = \"   you  \"\n",
    "text"
   ]
  },
  {
   "cell_type": "code",
   "execution_count": 28,
   "id": "191864ad-6e4e-4a7d-9f59-4fd284c53284",
   "metadata": {},
   "outputs": [
    {
     "data": {
      "text/plain": [
       "8"
      ]
     },
     "execution_count": 28,
     "metadata": {},
     "output_type": "execute_result"
    }
   ],
   "source": [
    "len(text)"
   ]
  },
  {
   "cell_type": "code",
   "execution_count": 29,
   "id": "1d5d8945-7011-4ecf-a2f5-643a36cbd71b",
   "metadata": {},
   "outputs": [
    {
     "data": {
      "text/plain": [
       "'you'"
      ]
     },
     "execution_count": 29,
     "metadata": {},
     "output_type": "execute_result"
    }
   ],
   "source": [
    "text = text.strip()\n",
    "text"
   ]
  },
  {
   "cell_type": "code",
   "execution_count": 30,
   "id": "bea40a70-d4a2-41c4-a25c-675d3b2dc59f",
   "metadata": {},
   "outputs": [
    {
     "data": {
      "text/plain": [
       "3"
      ]
     },
     "execution_count": 30,
     "metadata": {},
     "output_type": "execute_result"
    }
   ],
   "source": [
    "len(text)"
   ]
  },
  {
   "cell_type": "markdown",
   "id": "a5a7e4c9-3c38-4b0c-a102-d223fadc7bc1",
   "metadata": {},
   "source": [
    "## Using Join function\n",
    "This uses a seperator to join characters or string literals"
   ]
  },
  {
   "cell_type": "code",
   "execution_count": 31,
   "id": "0f91468f-1ccd-4acc-a962-0d7b635029c8",
   "metadata": {},
   "outputs": [],
   "source": [
    "str1 = \"hello\"\n",
    "str2 = \"world\""
   ]
  },
  {
   "cell_type": "code",
   "execution_count": 32,
   "id": "7ea025ab-2d0b-4aab-b397-30ae7af94c41",
   "metadata": {},
   "outputs": [
    {
     "data": {
      "text/plain": [
       "'hello - world'"
      ]
     },
     "execution_count": 32,
     "metadata": {},
     "output_type": "execute_result"
    }
   ],
   "source": [
    "my_join = \" - \".join([str1, str2])\n",
    "my_join"
   ]
  },
  {
   "cell_type": "code",
   "execution_count": 33,
   "id": "a6bc1732-41be-4b83-a656-91213a0eda0c",
   "metadata": {},
   "outputs": [
    {
     "data": {
      "image/png": "[encoded data removed]",
      "text/plain": [
       "<Figure size 640x480 with 1 Axes>"
      ]
     },
     "metadata": {},
     "output_type": "display_data"
    }
   ],
   "source": [
    "import matplotlib.pyplot as plt\n",
    "d = [1,2,3,4,5]\n",
    "e = [1,3,6,9,12]\n",
    "plt.plot(d,e)\n",
    "plt.show()"
   ]
  },
  {
   "cell_type": "code",
   "execution_count": 34,
   "id": "d1386d2c-f756-4386-8a3a-86c583ce44b3",
   "metadata": {},
   "outputs": [
    {
     "data": {
      "text/plain": [
       "'Ue noetCewb'"
      ]
     },
     "execution_count": 34,
     "metadata": {},
     "output_type": "execute_result"
    }
   ],
   "source": [
    "name = \"Udeh Innocent Chekwube\"\n",
    "name[::2]"
   ]
  },
  {
   "cell_type": "code",
   "execution_count": 35,
   "id": "539979d8-e943-4eaf-9d95-220a937c41b4",
   "metadata": {},
   "outputs": [
    {
     "data": {
      "text/plain": [
       "'Uhncthwe'"
      ]
     },
     "execution_count": 35,
     "metadata": {},
     "output_type": "execute_result"
    }
   ],
   "source": [
    "name[0::3]"
   ]
  },
  {
   "cell_type": "markdown",
   "id": "dd24674f-b76d-40bb-b6ae-1e35101256b5",
   "metadata": {},
   "source": [
    "## Indexing and Slicing Strings"
   ]
  },
  {
   "cell_type": "code",
   "execution_count": 36,
   "id": "ad73dde8-a3d3-4d2f-93db-d7149bd4570e",
   "metadata": {},
   "outputs": [
    {
     "data": {
      "text/plain": [
       "'hello - world'"
      ]
     },
     "execution_count": 36,
     "metadata": {},
     "output_type": "execute_result"
    }
   ],
   "source": [
    "my_join"
   ]
  },
  {
   "cell_type": "code",
   "execution_count": 37,
   "id": "26748099-ea83-4839-a6e4-2dd6da7b10e9",
   "metadata": {},
   "outputs": [
    {
     "name": "stdout",
     "output_type": "stream",
     "text": [
      "h is in index 0\n",
      "e is in index 1\n",
      "l is in index 2\n",
      "l is in index 3\n",
      "o is in index 4\n",
      "  is in index 5\n",
      "- is in index 6\n",
      "  is in index 7\n",
      "w is in index 8\n",
      "o is in index 9\n",
      "r is in index 10\n",
      "l is in index 11\n",
      "d is in index 12\n"
     ]
    }
   ],
   "source": [
    "for i in range(len(my_join)):\n",
    "    print(my_join[i] + \" is in index \" + str(i))"
   ]
  },
  {
   "cell_type": "code",
   "execution_count": 38,
   "id": "bc823607-3dd8-41f7-b693-29563a48ab50",
   "metadata": {},
   "outputs": [
    {
     "data": {
      "text/plain": [
       "'o'"
      ]
     },
     "execution_count": 38,
     "metadata": {},
     "output_type": "execute_result"
    }
   ],
   "source": [
    "my_join[4]"
   ]
  },
  {
   "cell_type": "markdown",
   "id": "70088502-e545-4dd2-8448-136712c129cb",
   "metadata": {},
   "source": [
    "## Negative Indexing\n",
    "This is done by counting from the back beginning with -1"
   ]
  },
  {
   "cell_type": "code",
   "execution_count": 39,
   "id": "b5293f81-a1ac-497e-9d8f-ab9b22745c25",
   "metadata": {},
   "outputs": [
    {
     "data": {
      "text/plain": [
       "'r'"
      ]
     },
     "execution_count": 39,
     "metadata": {},
     "output_type": "execute_result"
    }
   ],
   "source": [
    "my_join[-3]"
   ]
  },
  {
   "cell_type": "markdown",
   "id": "58cd23a7-8cc7-4ea0-9061-737fa1ac415a",
   "metadata": {},
   "source": [
    "## Creating multiple lines (Doc String)\n",
    "By Using Three pairs of double quotes. \"\"\" .... \"\"\""
   ]
  },
  {
   "cell_type": "code",
   "execution_count": 40,
   "id": "98f4c3d8-4979-4781-a0e0-28cb59c8931b",
   "metadata": {},
   "outputs": [
    {
     "data": {
      "text/plain": [
       "'Creating string on multiple lines.\\ndoc string makes it possible\\nwe can continue writing on multiple lines\\nas much as we want possible'"
      ]
     },
     "execution_count": 40,
     "metadata": {},
     "output_type": "execute_result"
    }
   ],
   "source": [
    "doc_string = \"\"\"Creating string on multiple lines.\n",
    "doc string makes it possible\n",
    "we can continue writing on multiple lines\n",
    "as much as we want possible\"\"\"\n",
    "\n",
    "doc_string"
   ]
  },
  {
   "cell_type": "code",
   "execution_count": 41,
   "id": "ed2eee64-fb62-4ccf-85eb-f76f38caab01",
   "metadata": {},
   "outputs": [
    {
     "name": "stdout",
     "output_type": "stream",
     "text": [
      "Creating string on multiple lines.\n",
      "doc string makes it possible\n",
      "we can continue writing on multiple lines\n",
      "as much as we want possible\n"
     ]
    }
   ],
   "source": [
    "print('Creating string on multiple lines.\\ndoc string makes it possible\\nwe can continue writing on multiple lines\\nas much as we want possible')"
   ]
  },
  {
   "cell_type": "markdown",
   "id": "d34b4103-000f-4c72-91d6-8e2106657211",
   "metadata": {},
   "source": [
    "## String Slice\n",
    "Getting multiple characters from a String"
   ]
  },
  {
   "cell_type": "code",
   "execution_count": 42,
   "id": "a8f5aa87-2a12-468a-931d-056ff0436cbb",
   "metadata": {},
   "outputs": [
    {
     "name": "stdout",
     "output_type": "stream",
     "text": [
      "multiple\n"
     ]
    }
   ],
   "source": [
    "#getting the character on the index of 19 and spans till index 27\n",
    "print(doc_string[19:27])"
   ]
  },
  {
   "cell_type": "code",
   "execution_count": 43,
   "id": "54f8e9ee-bd21-46c8-838b-547f816053d9",
   "metadata": {},
   "outputs": [
    {
     "name": "stdout",
     "output_type": "stream",
     "text": [
      "possible\n"
     ]
    }
   ],
   "source": [
    "#getting the character on the last 8th postion to the last character\n",
    "print(doc_string[-8:])"
   ]
  },
  {
   "cell_type": "code",
   "execution_count": 44,
   "id": "ea6725e3-5800-41ec-bf29-f7a579b63fac",
   "metadata": {},
   "outputs": [
    {
     "name": "stdout",
     "output_type": "stream",
     "text": [
      "elbissop\n"
     ]
    }
   ],
   "source": [
    "#getting the string literals from the character in the last index, spanning through the last 9th index step (-1) backwards\n",
    "print(doc_string[-1:-9:-1])"
   ]
  },
  {
   "cell_type": "markdown",
   "id": "32e386a6-516d-4b06-829e-3fcb0b771967",
   "metadata": {},
   "source": [
    "## String split function\n",
    "<p>To extract string literals into array by choosing their seperator</p>\n",
    "<p>Also turns string characters to a list</p>"
   ]
  },
  {
   "cell_type": "code",
   "execution_count": 45,
   "id": "9a212e9b-3e00-460b-ade1-c3642d7507c5",
   "metadata": {},
   "outputs": [
    {
     "data": {
      "text/plain": [
       "['Udeh', 'Innocent', 'Chekwube']"
      ]
     },
     "execution_count": 45,
     "metadata": {},
     "output_type": "execute_result"
    }
   ],
   "source": [
    "my_name = \"Udeh Innocent Chekwube\"\n",
    "my_split_name = my_name.split(\" \")\n",
    "my_split_name"
   ]
  },
  {
   "cell_type": "code",
   "execution_count": 46,
   "id": "057adb62-b0b1-4100-ba91-1805e4b37215",
   "metadata": {},
   "outputs": [
    {
     "name": "stdout",
     "output_type": "stream",
     "text": [
      "UIC\n",
      "U.I.C\n"
     ]
    }
   ],
   "source": [
    "first_letter = \"\"\n",
    "for i in my_split_name:\n",
    "    first_letter = first_letter + i[0]\n",
    "print(first_letter)\n",
    "print('.'.join(first_letter))"
   ]
  },
  {
   "cell_type": "code",
   "execution_count": 47,
   "id": "3b44cd7f-8db2-4915-9053-2af5f9b0b5bc",
   "metadata": {},
   "outputs": [
    {
     "data": {
      "text/plain": [
       "float"
      ]
     },
     "execution_count": 47,
     "metadata": {},
     "output_type": "execute_result"
    }
   ],
   "source": [
    "x = 1/1\n",
    "type(x)"
   ]
  },
  {
   "cell_type": "markdown",
   "id": "964bfdc4-369b-4d1f-9685-020034ea968a",
   "metadata": {},
   "source": [
    "## Lists and Tuples\n",
    "<p>A list is an ordered sequence represented in a square brackets and are MUTABLE.</p>\n",
    "<p>A tuple is an ordered sequence represented in a parenthesis and are IMMUTABLE.</p>\n",
    "<p>Both can be Nested.</p>"
   ]
  },
  {
   "cell_type": "code",
   "execution_count": 48,
   "id": "75a19701-69b1-41a8-8361-46a3a4fba3c4",
   "metadata": {},
   "outputs": [
    {
     "name": "stdout",
     "output_type": "stream",
     "text": [
      "b\n"
     ]
    }
   ],
   "source": [
    "# Tuple\n",
    "my_turple = ('name',2,3.4,('udeh','innocent'),True,['a', 'b','c'])\n",
    "print(my_turple[5][1])"
   ]
  },
  {
   "cell_type": "code",
   "execution_count": 49,
   "id": "4ab67069-2c73-45c9-90af-181905c1b3c7",
   "metadata": {},
   "outputs": [
    {
     "data": {
      "text/plain": [
       "'n'"
      ]
     },
     "execution_count": 49,
     "metadata": {},
     "output_type": "execute_result"
    }
   ],
   "source": [
    "my_turple[3][1][2]"
   ]
  },
  {
   "cell_type": "markdown",
   "id": "94896e2e-5e0e-4a90-ae0a-a0fddf600807",
   "metadata": {},
   "source": [
    "# Single Element Tuple\n",
    "<p>You add a <b>comma (,)</b> after the element</p>"
   ]
  },
  {
   "cell_type": "code",
   "execution_count": 50,
   "id": "f937198b-87c3-4046-9522-cd979fbde720",
   "metadata": {},
   "outputs": [
    {
     "data": {
      "text/plain": [
       "tuple"
      ]
     },
     "execution_count": 50,
     "metadata": {},
     "output_type": "execute_result"
    }
   ],
   "source": [
    "s_element = (1,)\n",
    "s_element\n",
    "type(s_element)"
   ]
  },
  {
   "cell_type": "markdown",
   "id": "353f8c80-f9ad-43b7-a291-cae8f7c7df09",
   "metadata": {},
   "source": [
    "### Sorting In Tuple\n",
    "<p>We can sort the values in a tuple and save it to a new tuple</P>"
   ]
  },
  {
   "cell_type": "code",
   "execution_count": 51,
   "id": "bda5f839-4cbf-4828-9579-08073512b87f",
   "metadata": {},
   "outputs": [
    {
     "name": "stdout",
     "output_type": "stream",
     "text": [
      "[2, 3, 3, 5, 6, 8, 12, 13, 23, 45, 65, 67, 85]\n"
     ]
    }
   ],
   "source": [
    "my_numbers = (5,8,3,67,45,65,13,6,3,2,85,12,23)\n",
    "my_turple2 = sorted(my_numbers)\n",
    "print(my_turple2)"
   ]
  },
  {
   "cell_type": "code",
   "execution_count": 52,
   "id": "350b2e14-824e-48a2-bd5f-d5799e2a256c",
   "metadata": {},
   "outputs": [
    {
     "name": "stdout",
     "output_type": "stream",
     "text": [
      "2\n",
      "innocent\n"
     ]
    }
   ],
   "source": [
    "# List\n",
    "my_list = ['name',2,3.4,('udeh','innocent'),['a', 'b','c'],True]\n",
    "print(my_list[1])\n",
    "print(my_list[3][1])"
   ]
  },
  {
   "cell_type": "code",
   "execution_count": 53,
   "id": "9c51824a-9127-4fd3-bcab-f4dad86209e6",
   "metadata": {},
   "outputs": [
    {
     "name": "stdout",
     "output_type": "stream",
     "text": [
      "[('udeh', 'innocent'), True]\n"
     ]
    }
   ],
   "source": [
    "# slicing\n",
    "my_list2 = my_list[3:6:2]\n",
    "print(my_list2)"
   ]
  },
  {
   "cell_type": "code",
   "execution_count": 54,
   "id": "891ccd4e-c44e-406d-ba53-01beed1b9665",
   "metadata": {},
   "outputs": [
    {
     "name": "stdout",
     "output_type": "stream",
     "text": [
      "['name', 2, 3.4, ('udeh', 'innocent'), ['a', 'b', 'c'], True, 'pop', 'push']\n"
     ]
    }
   ],
   "source": [
    "#concatenation using \"+\"\n",
    "my_list = my_list + ['pop', 'push']\n",
    "print(my_list)"
   ]
  },
  {
   "cell_type": "code",
   "execution_count": 55,
   "id": "70398026-650c-4e2c-b79a-b2aba82cab73",
   "metadata": {},
   "outputs": [
    {
     "name": "stdout",
     "output_type": "stream",
     "text": [
      "None\n"
     ]
    }
   ],
   "source": [
    "#or using \".extend\" (accepts only one argument)\n",
    "my_list = my_list.extend('fanta')\n",
    "print(my_list)\n"
   ]
  },
  {
   "cell_type": "code",
   "execution_count": 56,
   "id": "439d1a46-af79-452d-bfd2-19666efb9ec4",
   "metadata": {},
   "outputs": [
    {
     "ename": "AttributeError",
     "evalue": "'NoneType' object has no attribute 'append'",
     "output_type": "error",
     "traceback": [
      "\u001b[1;31m---------------------------------------------------------------------------\u001b[0m",
      "\u001b[1;31mAttributeError\u001b[0m                            Traceback (most recent call last)",
      "Cell \u001b[1;32mIn[56], line 1\u001b[0m\n\u001b[1;32m----> 1\u001b[0m my_list\u001b[38;5;241m.\u001b[39mappend(\u001b[38;5;124m'\u001b[39m\u001b[38;5;124mIre\u001b[39m\u001b[38;5;124m'\u001b[39m)\n",
      "\u001b[1;31mAttributeError\u001b[0m: 'NoneType' object has no attribute 'append'"
     ]
    }
   ],
   "source": [
    "my_list.append('Ire')"
   ]
  },
  {
   "cell_type": "code",
   "execution_count": null,
   "id": "761bfbe7-8fa6-4422-99f3-75e9dc7c9fdd",
   "metadata": {},
   "outputs": [],
   "source": [
    "#or using \".append\"\n",
    "my_listAppend = my_list.append('cola')\n",
    "print(my_listAppend)"
   ]
  },
  {
   "cell_type": "code",
   "execution_count": null,
   "id": "32a86f6a-be1e-4773-b9fa-917a7086163e",
   "metadata": {},
   "outputs": [],
   "source": [
    "my_list"
   ]
  },
  {
   "cell_type": "code",
   "execution_count": null,
   "id": "160e057c-468b-4bef-970b-551682f79b80",
   "metadata": {},
   "outputs": [],
   "source": [
    "#being mutable, we can change or delete (but we cant change the elements of the tuple inside the list)\n",
    "my_list[4][1] = \"chekwube\"\n",
    "print(my_list)"
   ]
  },
  {
   "cell_type": "code",
   "execution_count": null,
   "id": "40b255a2-cde2-4f9c-bf8c-0c737c8a635c",
   "metadata": {},
   "outputs": [],
   "source": [
    "#using the del\n",
    "del(my_list[2])\n",
    "print(my_list)"
   ]
  },
  {
   "cell_type": "markdown",
   "id": "fceeb73f-7649-4279-a951-2f1c0248bba2",
   "metadata": {},
   "source": [
    "## Referencing a list\n",
    "<p>Aliasing, changes are dynamic</p>\n",
    "<p>Cloning, changes doesnt affect the other list</p>"
   ]
  },
  {
   "cell_type": "code",
   "execution_count": null,
   "id": "fe4cc566-9c97-4f12-9863-dd3a96e02552",
   "metadata": {},
   "outputs": [],
   "source": [
    "# Aliasing\n",
    "listA = ['hash', 'tag', True, False, 'hash', True, False]\n",
    "listB = listA\n",
    "print(listA[1])\n",
    "print(listB[1])"
   ]
  },
  {
   "cell_type": "code",
   "execution_count": null,
   "id": "6a1bc7d8-fe9f-48a2-8cb6-fbd60f785d46",
   "metadata": {},
   "outputs": [],
   "source": [
    "#changing element of A\n",
    "listA[1] = 'changed'\n",
    "print(listA[1])\n",
    "print(listB[1])"
   ]
  },
  {
   "cell_type": "code",
   "execution_count": null,
   "id": "f1371bad-3504-40f3-9e7a-fe21f2d49414",
   "metadata": {},
   "outputs": [],
   "source": [
    "# Cloning\n",
    "listB = listA[:]\n",
    "print(listA[0])\n",
    "print(listB[0])"
   ]
  },
  {
   "cell_type": "code",
   "execution_count": null,
   "id": "76d8f6e7-9b58-4b02-9e80-989d4ec62eff",
   "metadata": {},
   "outputs": [],
   "source": [
    "#changing element of A\n",
    "listA[0] = 'Did it change'\n",
    "print(listA[0])\n",
    "print(listB[0])"
   ]
  },
  {
   "cell_type": "markdown",
   "id": "ef9aa868-36f7-4ac5-b052-9dc93a2195de",
   "metadata": {},
   "source": [
    "## Dictionaries\n",
    "<p>A type of collection, Like addresses containing keys and values</p>\n",
    "<p>Just like a list, the <b>INDEX ===> KEY</b>, the <b>ELEMENT ===> VALUE</b></p>\n",
    "<P>Created using curly brackets {}</P>\n",
    "<p>The KEYS are the first element (IMMUTABLE and UNIQUE), followed by a value seperated by a colon</p>\n",
    "<P>Each key and value pair is seperated by a comma</P>"
   ]
  },
  {
   "cell_type": "code",
   "execution_count": 58,
   "id": "5ed4cc2e-bbcd-43ce-a8c3-779904e12120",
   "metadata": {},
   "outputs": [
    {
     "name": "stdout",
     "output_type": "stream",
     "text": [
      "third letter of english alphabet\n"
     ]
    }
   ],
   "source": [
    "my_dictionary = {\n",
    "    \"a\": \"first letter of english alphabet\",\n",
    "    \"b\": \"second letter of english alphabet\",\n",
    "    \"c\": \"third letter of english alphabet\",\n",
    "    \"d\": \"fourth letter of english alphabet\",\n",
    "    \"e\": \"fifth letter of english alphabet\"\n",
    "}\n",
    "print(my_dictionary[\"c\"])"
   ]
  },
  {
   "cell_type": "code",
   "execution_count": null,
   "id": "0afab591-f0c1-4167-8b1c-72f736f2cfdd",
   "metadata": {},
   "outputs": [],
   "source": [
    "# to add to the dictionary\n",
    "my_dictionary[\"m\"] = \"fourteenth letter of english alphabet\"\n",
    "print(my_dictionary)"
   ]
  },
  {
   "cell_type": "code",
   "execution_count": null,
   "id": "5e796e2e-468e-4c50-9f2d-8d7cee292d76",
   "metadata": {},
   "outputs": [],
   "source": [
    "# Adding a tuple to a dicrionary\n",
    "my_dictionary[(1,2)] = (\"come\", \"here\")\n",
    "print(my_dictionary[(1,2)])"
   ]
  },
  {
   "cell_type": "code",
   "execution_count": null,
   "id": "75577ab1-60df-423c-bd07-c7864de02ada",
   "metadata": {},
   "outputs": [],
   "source": [
    "# to delete an entry\n",
    "del(my_dictionary[\"b\"]) # or my_dictionary.pop('b')\n",
    "print(my_dictionary)"
   ]
  },
  {
   "cell_type": "code",
   "execution_count": null,
   "id": "4594faac-baa3-4aac-8d4a-1b0816623028",
   "metadata": {},
   "outputs": [],
   "source": [
    "# to update a library \n",
    "my_dictionary.update({'a': 'This is the beginning'})"
   ]
  },
  {
   "cell_type": "code",
   "execution_count": null,
   "id": "80f0486b-21a2-4009-b814-fe9d682dc3c9",
   "metadata": {},
   "outputs": [],
   "source": [
    "# To verify if an element exist using the \"IN\" command (Returns True or False)\n",
    "\"b\" in my_dictionary"
   ]
  },
  {
   "cell_type": "markdown",
   "id": "6f40febf-c777-48e4-a176-1702b94f0f60",
   "metadata": {},
   "source": [
    "### Obtaining the keys and values of the dictionary"
   ]
  },
  {
   "cell_type": "code",
   "execution_count": null,
   "id": "904c12d8-5a71-4f25-8641-555767e947d2",
   "metadata": {},
   "outputs": [],
   "source": [
    "# keys\n",
    "my_dictionary.keys()"
   ]
  },
  {
   "cell_type": "code",
   "execution_count": null,
   "id": "0b9b76f4-05b9-44eb-8494-8f1f6a0f542b",
   "metadata": {},
   "outputs": [],
   "source": [
    "# Values\n",
    "my_dictionary.values()"
   ]
  },
  {
   "cell_type": "code",
   "execution_count": null,
   "id": "165e3c31-0b89-487d-a686-69d30d82a035",
   "metadata": {},
   "outputs": [],
   "source": [
    "# Extracting it as a list\n",
    "list(my_dictionary.keys())"
   ]
  },
  {
   "cell_type": "markdown",
   "id": "2fff608f-725a-4757-a330-eff4d4f25a84",
   "metadata": {},
   "source": [
    "# Looping Through a Dictionary"
   ]
  },
  {
   "cell_type": "code",
   "execution_count": 59,
   "id": "9af52c96-445f-4c0d-bf78-89303c979f9f",
   "metadata": {},
   "outputs": [
    {
     "name": "stdout",
     "output_type": "stream",
     "text": [
      "a first letter of english alphabet\n",
      "b second letter of english alphabet\n",
      "c third letter of english alphabet\n",
      "d fourth letter of english alphabet\n",
      "e fifth letter of english alphabet\n"
     ]
    }
   ],
   "source": [
    "for key, values in my_dictionary.items():\n",
    "    print(key, values)"
   ]
  },
  {
   "cell_type": "markdown",
   "id": "053f24c0-91b4-438b-9698-16546fa5ab68",
   "metadata": {},
   "source": [
    "## Sets\n",
    "<p>Also a type of collection but <b>UNORDERED</b> (they do not record element position)</p>\n",
    "<p>The have <b>UNIQUE</b> elements</p>\n",
    "<p>Curly brackets <b>{}</b> are used to define a set</p>"
   ]
  },
  {
   "cell_type": "code",
   "execution_count": 70,
   "id": "f3cac5c9-7e20-4741-9a50-f4fcd917a618",
   "metadata": {},
   "outputs": [
    {
     "name": "stdout",
     "output_type": "stream",
     "text": [
      "{'jazz', 'disco', 'rock', 'R&B'}\n"
     ]
    }
   ],
   "source": [
    "# creating and checking uniqueness\n",
    "my_set = {\"rock\", \"jazz\", \"R&B\", \"jazz\", \"disco\", \"rock\"}\n",
    "print(my_set)"
   ]
  },
  {
   "cell_type": "markdown",
   "id": "837e4984-be02-4511-9224-ea804b158573",
   "metadata": {},
   "source": [
    "#### Converting a List to a Set"
   ]
  },
  {
   "cell_type": "code",
   "execution_count": null,
   "id": "91b6ea85-c11f-4c1a-b81e-cf17a7f17d7f",
   "metadata": {},
   "outputs": [],
   "source": [
    "# Using the set() and this called TYPECASTING\n",
    "print(listA)\n",
    "\n",
    "listA_set = set(listA)\n",
    "print(listA_set)\n",
    "#result will be without repetition"
   ]
  },
  {
   "cell_type": "markdown",
   "id": "930ea1f4-3883-496b-b384-f52a42c71417",
   "metadata": {},
   "source": [
    "### Set Operations"
   ]
  },
  {
   "cell_type": "code",
   "execution_count": null,
   "id": "ac61de96-ee86-4825-b96b-9bb65ed4e4cf",
   "metadata": {},
   "outputs": [],
   "source": [
    "# Adding a value to the set (if it exists, no change will take effect)\n",
    "my_set"
   ]
  },
  {
   "cell_type": "code",
   "execution_count": null,
   "id": "d63c1e92-b89f-456e-853e-c4c7738956c1",
   "metadata": {},
   "outputs": [],
   "source": [
    "my_set.add(\"pop\")\n",
    "my_set"
   ]
  },
  {
   "cell_type": "code",
   "execution_count": 72,
   "id": "7a568d86-40cc-4e91-84b3-242f221d0391",
   "metadata": {},
   "outputs": [
    {
     "data": {
      "text/plain": [
       "{45, 57, 'disco', 'jazz', 'rock'}"
      ]
     },
     "execution_count": 72,
     "metadata": {},
     "output_type": "execute_result"
    }
   ],
   "source": [
    "# Removing an element\n",
    "my_set.remove(\"R&B\")\n",
    "my_set\n",
    "\n",
    "# or using .discard()    but .discard doesn't output an error if the elements is not found unlike .remove()"
   ]
  },
  {
   "cell_type": "code",
   "execution_count": 73,
   "id": "44fd8587-e289-490a-94ed-b81ee3cb8788",
   "metadata": {},
   "outputs": [
    {
     "data": {
      "text/plain": [
       "{45, 57, 'disco', 'jazz', 'rock'}"
      ]
     },
     "execution_count": 73,
     "metadata": {},
     "output_type": "execute_result"
    }
   ],
   "source": [
    "# updating with more than one elements\n",
    "my_set.update([45,57])\n",
    "my_set"
   ]
  },
  {
   "cell_type": "code",
   "execution_count": null,
   "id": "8063006a-7066-4408-b768-ceaf00fe32f2",
   "metadata": {},
   "outputs": [],
   "source": [
    "# verify if a value is an element of a set using the \"IN\" command\n",
    "\"R&B\" in my_set"
   ]
  },
  {
   "cell_type": "markdown",
   "id": "69666a93-72a7-4f91-854a-dff0ff3e085a",
   "metadata": {},
   "source": [
    "### Mathematical Operations in Sets\n",
    "<p>Just like Venn Diagram, <b>INTERSECTION</b> is gotten by using '<b>&</b>' command</p>\n",
    "<p>The <b>UNION</b> is done by using the \"<b>.union()</b>\" method</p>"
   ]
  },
  {
   "cell_type": "code",
   "execution_count": null,
   "id": "514b9b79-3a8c-4f65-8811-980c041c80da",
   "metadata": {},
   "outputs": [],
   "source": [
    "my_set"
   ]
  },
  {
   "cell_type": "code",
   "execution_count": null,
   "id": "c8834eb8-bec7-4a91-a707-aa9aa633ef75",
   "metadata": {},
   "outputs": [],
   "source": [
    "# Intersection\n",
    "my_set2 = {'cat', 'rat', 'pop', 'disco'}\n",
    "my_setIntersect = my_set & my_set2    # Alternatively, using \".intersection()\" method\n",
    "my_setIntersect"
   ]
  },
  {
   "cell_type": "code",
   "execution_count": null,
   "id": "1b387d05-9a4c-4cb5-b9c2-2cba99baef95",
   "metadata": {},
   "outputs": [],
   "source": [
    "# Union\n",
    "my_setUnion = my_set.union(my_set2)    # Alternatively, using \" | \" (pipe) command\n",
    "my_setUnion"
   ]
  },
  {
   "cell_type": "code",
   "execution_count": null,
   "id": "5eb2fb06-0dc4-403e-b764-e7d3f5a308a5",
   "metadata": {},
   "outputs": [],
   "source": [
    "# Checking if a set is a subset of another set\n",
    "my_setIntersect.issubset(my_set) #also check for my_setUnion"
   ]
  },
  {
   "cell_type": "code",
   "execution_count": null,
   "id": "ac913854-0dfd-46e1-9676-8d84bdc12640",
   "metadata": {},
   "outputs": [],
   "source": [
    "# Checking if a set is a superset of another set\n",
    "my_set.issuperset(my_setUnion)"
   ]
  },
  {
   "cell_type": "code",
   "execution_count": null,
   "id": "dc130eda-2292-4171-81ae-791e7565145e",
   "metadata": {},
   "outputs": [],
   "source": [
    "# Finding the difference in set1 but not in set2\n",
    "my_set.difference(my_set2)    # And vice-versa for set 2"
   ]
  },
  {
   "cell_type": "code",
   "execution_count": null,
   "id": "73a6cd9c-ce2a-4bf4-aba2-28bd5f7c6b0a",
   "metadata": {},
   "outputs": [],
   "source": [
    "my_set2"
   ]
  },
  {
   "cell_type": "code",
   "execution_count": null,
   "id": "47e95bc2-d2cc-4b2f-b011-071d6bd8a6e8",
   "metadata": {},
   "outputs": [],
   "source": [
    "# Removing a specific element from the set\n",
    "my_set2.discard('cat')\n",
    "my_set2"
   ]
  },
  {
   "cell_type": "markdown",
   "id": "67464de6-a14d-49d2-8152-47fe16b8466f",
   "metadata": {},
   "source": [
    "## Conditional statement"
   ]
  },
  {
   "cell_type": "code",
   "execution_count": null,
   "id": "623d23e1-a4b7-4a67-8b39-fa910a203038",
   "metadata": {},
   "outputs": [],
   "source": [
    "try:\n",
    "    x = int(input(\"Enter a number: \"))\n",
    "    if x > 5:\n",
    "        print(\"X is greater than 5\")\n",
    "    else:\n",
    "        print(\"X is not greater than 5\")\n",
    "except ValueError:\n",
    "    print(\"Enter a valid number\")"
   ]
  },
  {
   "cell_type": "markdown",
   "id": "38145969-fe56-47ef-8c89-d48f484d2f0a",
   "metadata": {},
   "source": [
    "minimum_age = 18\n",
    "attendee_age = float(input(\"Dear guest, please kindly enter your age\"))\n",
    "if attendee_age >= minimum_age:\n",
    "    print(\"You are welcome sir/ma'am, \\nPlease enter\")\n",
    "else:\n",
    "    print(\"Please go home and help your mother, you have \", minimum_age - attendee_age, \" years to go\")"
   ]
  },
  {
   "cell_type": "markdown",
   "id": "dfea4839-7d7e-4383-926f-47ebf15fa0c1",
   "metadata": {},
   "source": [
    "### Else and Elif"
   ]
  },
  {
   "cell_type": "code",
   "execution_count": null,
   "id": "a5392678-ea42-4c29-8a6a-b300264da92e",
   "metadata": {},
   "outputs": [],
   "source": [
    "age = float(input(\"Please enter your Age: \"))\n",
    "if age < 0 : \n",
    "    print(\"Still inside your parents womb\")\n",
    "elif 0 < age <= 3:\n",
    "    print(\"You are an Infant\")\n",
    "elif 3 < age <= 12:\n",
    "    print(\"You are an Child\")\n",
    "elif 12 < age <= 19:\n",
    "    print(\"You are an teanager\")\n",
    "elif 19 < age <= 30:\n",
    "    print(\"You are an Youth\")\n",
    "elif 30 < age <= 40:\n",
    "    print(\"You are Married\")\n",
    "elif 40 < age <= 60:\n",
    "    print(\"You are an Parent\")\n",
    "elif 60 < age <= 90:\n",
    "    print(\"You are an Grand parent\")\n",
    "elif 90 < age <= 100:\n",
    "    print(\"You are preparing\")\n",
    "else:\n",
    "    print(\"What are you waiting for\")"
   ]
  },
  {
   "cell_type": "markdown",
   "id": "fe4b9407-d6d4-4961-bbdc-850826029ea1",
   "metadata": {},
   "source": [
    "## Nested IF's"
   ]
  },
  {
   "cell_type": "code",
   "execution_count": null,
   "id": "8801f6a6-fca4-46e4-871d-72bf672d8714",
   "metadata": {},
   "outputs": [],
   "source": [
    "x = int(input(\"Enter an integer number: \"))\n",
    "if x < 0:\n",
    "    print (x, \" is a negative number\")\n",
    "elif x == 0:\n",
    "    print (\"You entered 0\")\n",
    "else:\n",
    "    print (x, \" is a Positive number\")"
   ]
  },
  {
   "cell_type": "markdown",
   "id": "7bf02f86-1721-4ea2-b87c-2dbc909087d6",
   "metadata": {},
   "source": [
    "## Basic Input and Output "
   ]
  },
  {
   "cell_type": "code",
   "execution_count": null,
   "id": "555ea6df-0068-4a34-8e3b-53a2152e0d1b",
   "metadata": {},
   "outputs": [],
   "source": [
    "# Using F- string\n",
    "name = input(\"Enter your name: \")\n",
    "print(f\"My name is {name}, I am {input(\"Enter your age\")} years\")"
   ]
  },
  {
   "cell_type": "markdown",
   "id": "82a3f694-0e7f-4fb5-a0c2-00ce50a3e8de",
   "metadata": {},
   "source": [
    "<h1>Small lotto</h1>\n",
    "<p>a little game</p>"
   ]
  },
  {
   "cell_type": "code",
   "execution_count": null,
   "id": "32df71b1-c05c-41c7-810b-b592b378764f",
   "metadata": {},
   "outputs": [],
   "source": [
    "# importing a library\n",
    "import random\n",
    "\n",
    "#randomly picking number\n",
    "computer_num = random.randint(1,500)\n",
    "\n",
    "stake = int(input(\"Enter Your Staking Amount: \"))\n",
    "odds = 500\n",
    "selectedNum = []\n",
    "count = 1\n",
    "for i in range(3):\n",
    "    selectedNum.append(int(input(f\"Trial {count}, Enter a number between 1 and 500: \")))\n",
    "    count = count + 1\n",
    "for i in selectedNum:\n",
    "    if computer_num == i:\n",
    "        print(f\"Congradulations \\nwith NGN{stake}, you have won NGN{stake * odds}\")\n",
    "        break\n",
    "else:\n",
    "    print(f\"You lost NGN{stake}, try again\")\n",
    "print(f\"computer's choice: {computer_num} \\nYour Choice: {selectedNum}\")\n",
    "\n"
   ]
  },
  {
   "cell_type": "markdown",
   "id": "dc42d446-11ea-4b45-8fd2-89741455b0b9",
   "metadata": {},
   "source": [
    "## Loops"
   ]
  },
  {
   "cell_type": "markdown",
   "id": "d034b5e5-29bb-48bb-a98a-565eb5ff0532",
   "metadata": {},
   "source": [
    "#### FOR loop"
   ]
  },
  {
   "cell_type": "code",
   "execution_count": null,
   "id": "d685cf35-65aa-4ea1-8f4c-51b6a72c15ed",
   "metadata": {},
   "outputs": [],
   "source": [
    "# Range\n",
    "dates = [1960, 1964,1968, 1972, 1976, 1980]\n",
    "num = len(dates)\n",
    "for i in range(1,num):  # \"1\" is the starting index, then do till \"Num - 1\" index\n",
    "    print(dates[i])"
   ]
  },
  {
   "cell_type": "code",
   "execution_count": null,
   "id": "1d07ee59-49ed-47fb-bfb4-98fb2b840506",
   "metadata": {},
   "outputs": [],
   "source": [
    "# using Enumerate \n",
    "for i, date in enumerate(dates):\n",
    "    print(f\"on day {i + 1}, the date is {date}\")"
   ]
  },
  {
   "cell_type": "markdown",
   "id": "32207b80-eff8-4516-a1bf-1bddbd908e73",
   "metadata": {},
   "source": [
    "#### WHILE Loop"
   ]
  },
  {
   "cell_type": "code",
   "execution_count": null,
   "id": "e340d50a-0ebb-4b92-9bea-bf99dad7a453",
   "metadata": {},
   "outputs": [],
   "source": [
    "i = 0\n",
    "while dates[i] < 1970:\n",
    "    print(dates[i])\n",
    "    i += 1"
   ]
  },
  {
   "cell_type": "markdown",
   "id": "69236a07-2bf0-4289-8826-3e596cf446ff",
   "metadata": {},
   "source": [
    "## Functions\n",
    "<P>A piece of re usable code that takes an input and produce a defined output</P>\n"
   ]
  },
  {
   "cell_type": "markdown",
   "id": "7eee561a-54cb-44bb-9c57-bdfd39126f2b",
   "metadata": {},
   "source": [
    "### Difference between <b>SORTED</b> function and <b>SORT</b> function"
   ]
  },
  {
   "cell_type": "code",
   "execution_count": null,
   "id": "f98b6c02-3421-4b85-b2ea-c4104b700c4c",
   "metadata": {},
   "outputs": [],
   "source": [
    "# sorted function returns returns a new sorted LIST or tuple without changing the original list\n",
    "#consider the list below\n",
    "tempList = [45, 23,87,34,43,23,32,54]\n",
    "sortedTempList = sorted(tempList)\n",
    "sortedTempList"
   ]
  },
  {
   "cell_type": "code",
   "execution_count": null,
   "id": "94726658-bbdf-426b-9376-92e72f9df694",
   "metadata": {},
   "outputs": [],
   "source": [
    "# sort function sorts the original list and no new list is created\n",
    "tempList.sort()\n",
    "tempList"
   ]
  },
  {
   "cell_type": "markdown",
   "id": "d119b214-e91a-4570-8a76-0412d13d04b7",
   "metadata": {},
   "source": [
    "## Building a function\n",
    "<p>started with the keyword <b>def</b> followed by the name of the fuction (descriptive to what it is meant for)</p>\n",
    "<p>then the parameter in parenthesis, followed by a colon.</p>\n",
    "<p>Then the block of code and the <b>return</b> keyword with what to return</p>\n",
    "<p>If the block of code is to be empty, then write <b>pass</b> as the code which doesn't do anything</p> "
   ]
  },
  {
   "cell_type": "code",
   "execution_count": null,
   "id": "74d59db3-893a-470e-ae6d-890490d95fbc",
   "metadata": {},
   "outputs": [],
   "source": [
    "def add(a,b):\n",
    "    return a + b"
   ]
  },
  {
   "cell_type": "code",
   "execution_count": null,
   "id": "362f4623-bbda-40b6-9d4d-a923362cc743",
   "metadata": {},
   "outputs": [],
   "source": [
    "firstSum = add(23, 34)\n",
    "firstSum"
   ]
  },
  {
   "cell_type": "markdown",
   "id": "c21bee80-cb7b-4d87-984b-4efc551b6103",
   "metadata": {},
   "source": [
    "#### Function with variadic parameters\n",
    "<p>This accepts multiple parameters, in the parameter, an asteriks is attached</p>"
   ]
  },
  {
   "cell_type": "code",
   "execution_count": 11,
   "id": "bca53406-bc36-49ca-bb26-e5fe5ee9e8d2",
   "metadata": {},
   "outputs": [],
   "source": [
    "def mulAllValues(*values):\n",
    "    ans = 1\n",
    "    for i in values:\n",
    "        ans = ans * i\n",
    "    return ans"
   ]
  },
  {
   "cell_type": "code",
   "execution_count": 12,
   "id": "7e82b334-cdb7-4664-bd59-31c48b13dab5",
   "metadata": {},
   "outputs": [
    {
     "data": {
      "text/plain": [
       "216"
      ]
     },
     "execution_count": 12,
     "metadata": {},
     "output_type": "execute_result"
    }
   ],
   "source": [
    "multipliedValues = mulAllValues(2,3,4,9)\n",
    "multipliedValues"
   ]
  },
  {
   "cell_type": "markdown",
   "id": "9dec0f56-ba20-4da4-9eed-ee6934d08072",
   "metadata": {},
   "source": [
    "#### Things to note about scope\n",
    "###### Variable declared outside a function is a global scope and the one declared inside the function is only accessible by the function\n",
    "###### To create a global scope variable within a function, you use the keyword <b>global</b>"
   ]
  },
  {
   "cell_type": "markdown",
   "id": "26b04896-9d3e-4894-a0ef-900d9e3c8667",
   "metadata": {},
   "source": [
    "### Using variadic parameters to create a function that can append more than one element at a time to a list"
   ]
  },
  {
   "cell_type": "code",
   "execution_count": null,
   "id": "a2331a70-cf7b-4af9-ac0b-0d016f68e540",
   "metadata": {},
   "outputs": [],
   "source": [
    "def appendAllToList(myList,*values):\n",
    "    for value in values:\n",
    "        myList.append(value)\n",
    "    return myList\n",
    "        "
   ]
  },
  {
   "cell_type": "code",
   "execution_count": null,
   "id": "de337960-66e3-42a6-9645-003040385b08",
   "metadata": {},
   "outputs": [],
   "source": [
    "groupList = []\n",
    "groupList = appendAllToList(groupList, 34,32,56,12,67,12,76)\n",
    "groupList"
   ]
  },
  {
   "cell_type": "code",
   "execution_count": null,
   "id": "a8a4175d-0ff8-4047-bae1-1806d77942b1",
   "metadata": {},
   "outputs": [],
   "source": [
    "groupList.clear()\n",
    "groupList"
   ]
  },
  {
   "cell_type": "markdown",
   "id": "e0dc6241-f2a8-4d89-8c37-266cac8b947a",
   "metadata": {},
   "source": [
    "## ZIP to iterate multiple lists"
   ]
  },
  {
   "cell_type": "code",
   "execution_count": null,
   "id": "d39e093e-40d3-4391-9392-10fb3ed3c731",
   "metadata": {},
   "outputs": [],
   "source": [
    "men = [\"Priye\", \"Innocent\", \"Great\", \"Tony\"]\n",
    "women = [\"Toyosi\", \"Tamuno\", \"Joy\", \"Brenda\"]"
   ]
  },
  {
   "cell_type": "code",
   "execution_count": null,
   "id": "1223f8bf-5aa8-406b-8dee-0d9493976f40",
   "metadata": {},
   "outputs": [],
   "source": [
    "# using ZIP (both elements must have equal number of elements or else the iteration stops at the one with the least element)\n",
    "for man, woman in zip(men,women):\n",
    "    print(man, \" is married to \", woman)"
   ]
  },
  {
   "cell_type": "markdown",
   "id": "cd71b80d-9b06-4f02-89eb-63c3fd590c93",
   "metadata": {},
   "source": [
    "## List comprehension"
   ]
  },
  {
   "cell_type": "code",
   "execution_count": null,
   "id": "d4824d38-56c2-4811-995d-d375f3f8a379",
   "metadata": {},
   "outputs": [],
   "source": [
    "squares = [x**2 for x in range(10)]\n",
    "squares"
   ]
  },
  {
   "cell_type": "code",
   "execution_count": null,
   "id": "74c50427-7282-45f4-ac9e-f1c19165151f",
   "metadata": {},
   "outputs": [],
   "source": [
    "multiples = [x for x in range(3,37,3)] # Multiples of 3\n",
    "multiples"
   ]
  },
  {
   "cell_type": "code",
   "execution_count": null,
   "id": "960d69b9-c692-4c75-8e4b-21521de67279",
   "metadata": {},
   "outputs": [],
   "source": [
    "even = [x for x in range(10) if x % 2 == 0]\n",
    "even"
   ]
  },
  {
   "cell_type": "code",
   "execution_count": null,
   "id": "f10d9232-5b94-4c2c-96f5-ca320de86e79",
   "metadata": {},
   "outputs": [],
   "source": [
    "result = [f\"{x} is even\" if x % 2 == 0 else f\"{x} is odd\" for x in range(10)]\n",
    "result"
   ]
  },
  {
   "cell_type": "markdown",
   "id": "28554f20-5b88-46a3-813f-d210124c2199",
   "metadata": {},
   "source": [
    "## Nested List Comprehension\n",
    "##### Example: Flattening a matrix"
   ]
  },
  {
   "cell_type": "code",
   "execution_count": null,
   "id": "8b38c2c2-dfba-459b-b739-e91cf0371acb",
   "metadata": {},
   "outputs": [],
   "source": [
    "matrix = [[1,2,3],[4,5,6],[7,8,9]]\n",
    "flattened = [num for row in matrix for num in row]\n",
    "flattened"
   ]
  },
  {
   "cell_type": "code",
   "execution_count": null,
   "id": "dd52b30f-05af-49cf-8b39-7684c55c5365",
   "metadata": {},
   "outputs": [],
   "source": [
    "men"
   ]
  },
  {
   "cell_type": "code",
   "execution_count": null,
   "id": "03451a60-089a-41f9-b5f5-7fb73972e154",
   "metadata": {},
   "outputs": [],
   "source": [
    "women"
   ]
  },
  {
   "cell_type": "code",
   "execution_count": null,
   "id": "6b7d88f2-acd5-422b-af08-9b4da8a1660b",
   "metadata": {},
   "outputs": [],
   "source": [
    "# Adding women into Men list as individual elementmen.extend(women)\n",
    "men.extend(women)"
   ]
  },
  {
   "cell_type": "code",
   "execution_count": null,
   "id": "c5fe7e4a-74e7-4e35-9cde-696beca84d10",
   "metadata": {},
   "outputs": [],
   "source": [
    "names_abbr = [name.upper()[:3] if len(name) > 3 else name.upper() for name in men]\n",
    "names_abbr"
   ]
  },
  {
   "cell_type": "code",
   "execution_count": null,
   "id": "2cf03c9a-3a1e-4d8e-b799-c7584b7dd47b",
   "metadata": {},
   "outputs": [],
   "source": [
    "num = [x for x in range(100,1000) if x % 24 == 0 and x % 27 == 0]\n",
    "num"
   ]
  },
  {
   "cell_type": "code",
   "execution_count": null,
   "id": "27df68f9-8e67-4a27-a00e-e46b157038e9",
   "metadata": {},
   "outputs": [],
   "source": [
    "\"Innocent\" in men"
   ]
  },
  {
   "cell_type": "code",
   "execution_count": null,
   "id": "4a67a5e1-51ee-4c0c-9426-540ccbb66246",
   "metadata": {},
   "outputs": [],
   "source": [
    "\"innocent\" in men"
   ]
  },
  {
   "cell_type": "code",
   "execution_count": null,
   "id": "38ede0b0-f394-4b9b-bc74-2761d64e8485",
   "metadata": {},
   "outputs": [],
   "source": [
    "compNum = []\n",
    "count = 0\n",
    "while count < 7:\n",
    "    guess = random.randint(1,100)\n",
    "    if guess not in compNum:\n",
    "        compNum.append(guess)\n",
    "        count += 1\n",
    "    else:\n",
    "        pass\n",
    "\n",
    "name = input(\"Enter Your Name: \").upper()\n",
    "stake = int(input(\"Enter Your Staking Amount: $\"))\n",
    "odds = 100\n",
    "selectedNum = []\n",
    "winningNum =[]\n",
    "trial = 0\n",
    "while trial < 3:    \n",
    "    inp = int(input(f\"Trial {trial + 1}, Enter a number between 1 and 100: \"))\n",
    "    if 0 < inp > 99:\n",
    "        print(f\"You entered a number outside the range\")\n",
    "    elif inp in selectedNum:\n",
    "        print(f\"Already choosen, Choose another number for option {trial + 1}\")\n",
    "        pass\n",
    "    else:\n",
    "        trial += 1\n",
    "        selectedNum.append(inp)\n",
    "\n",
    "for x in selectedNum:\n",
    "    for y in compNum:\n",
    "        if x == y:\n",
    "            winningNum.append(x)\n",
    "if len(winningNum) == 3:\n",
    "    print(f\"\\nCongradulations {name} \\nwith NGN {stake}, you have won NGN{stake * odds}\")\n",
    "else:\n",
    "    print(f\"\\n{name}, You lost ${stake}, try again\")\n",
    "\n",
    "\n",
    "print(f\"\\ncomputer's choice: {compNum} \\nYour Choice: {selectedNum}\")"
   ]
  },
  {
   "cell_type": "code",
   "execution_count": null,
   "id": "82bd53ca-88e4-40f2-ad7f-17212e0009b7",
   "metadata": {},
   "outputs": [],
   "source": [
    "# houses from 1 to N\n",
    "# find how many sets of 3 houses >> special group\n",
    "# where the sum of the squares of 2 smaller house numbers = the square of the largest house number\n",
    "\n",
    "entry = int(input(\"Enter the Number of houses: \"))\n",
    "n = entry + 1\n",
    "specialList = []\n",
    "for i in range(1, n):\n",
    "    for j in range(1, n):\n",
    "        for k in range(1, n):\n",
    "            if i ** 2 + j ** 2 == k ** 2:\n",
    "                myList = [i,j,k]\n",
    "                specialList.append(myList)\n",
    "\n",
    "print(f\"\\nThere are {len(specialList)} valid sets of special group from 1 to {entry}\")\n",
    "                "
   ]
  },
  {
   "cell_type": "code",
   "execution_count": null,
   "id": "75c253f9-d762-42c1-8dd6-dda0bacb90b0",
   "metadata": {},
   "outputs": [],
   "source": [
    "myTuple = ('Timi', 'Brenda', 'Faith', 'Joy')\n",
    "myTuple[-1]"
   ]
  },
  {
   "cell_type": "code",
   "execution_count": null,
   "id": "474345a6-efcf-48e3-b8d5-1a12d5617f2d",
   "metadata": {},
   "outputs": [],
   "source": [
    "myTuple[-2]"
   ]
  },
  {
   "cell_type": "code",
   "execution_count": null,
   "id": "924a618f-c9c2-413b-a2e6-2ac8df472192",
   "metadata": {},
   "outputs": [],
   "source": [
    "myTuple"
   ]
  },
  {
   "cell_type": "markdown",
   "id": "beaa228f-b859-44ba-8ed2-7b43b92f9bd1",
   "metadata": {},
   "source": [
    "# Unpacking Tuple"
   ]
  },
  {
   "cell_type": "code",
   "execution_count": null,
   "id": "3556c1bc-bc19-49ec-8096-5c74171e13d1",
   "metadata": {},
   "outputs": [],
   "source": [
    "a,b,c,d = myTuple\n",
    "print(a,b,c,d)"
   ]
  },
  {
   "cell_type": "code",
   "execution_count": null,
   "id": "a20c73c0-20e4-4532-b450-1ddebda2fca1",
   "metadata": {},
   "outputs": [],
   "source": [
    "a,*b,c = myTuple\n",
    "print(b)"
   ]
  },
  {
   "cell_type": "code",
   "execution_count": null,
   "id": "4640ed3d-270f-45f3-bc84-fc5d72571f59",
   "metadata": {},
   "outputs": [],
   "source": [
    "listA = list(myTuple)\n",
    "listA"
   ]
  },
  {
   "cell_type": "markdown",
   "id": "66eb926c-9ad4-48c9-bd34-8bf6b436b673",
   "metadata": {},
   "source": [
    "# Nested Tuple"
   ]
  },
  {
   "cell_type": "code",
   "execution_count": null,
   "id": "a74c1f65-7a3d-4a2b-8a72-e6581e16a128",
   "metadata": {},
   "outputs": [],
   "source": [
    "newTuple = ('Timi', (2, 4, ('Mike', 'Brenda'), 3), 'Faith', 'Joy')\n",
    "newTuple[1][2][1]"
   ]
  },
  {
   "cell_type": "code",
   "execution_count": null,
   "id": "ad1e1749-fc81-4e93-be8b-eb886618a91e",
   "metadata": {},
   "outputs": [],
   "source": [
    "newTuple[1][2][0][::2] + newTuple[1][2][1][::2]"
   ]
  },
  {
   "cell_type": "code",
   "execution_count": null,
   "id": "89b1a0ee-4198-42ef-aeca-709749179e7c",
   "metadata": {},
   "outputs": [],
   "source": [
    "for i in newTuple[1][2]:\n",
    "    print(i[::2])"
   ]
  },
  {
   "cell_type": "markdown",
   "id": "95843aef-8639-40f7-a02c-00f43755195a",
   "metadata": {},
   "source": [
    "# Operations in dictionary and sets"
   ]
  },
  {
   "cell_type": "code",
   "execution_count": 60,
   "id": "179fc9f6-d015-4961-9054-e389daced7d9",
   "metadata": {},
   "outputs": [],
   "source": [
    "personal_information = {\n",
    "    \"name\": \"Udeh Innocent\",\n",
    "    \"company\": \"Pm4Success International\",\n",
    "    \"position\": \"Trainee\"\n",
    "    \n",
    "}"
   ]
  },
  {
   "cell_type": "code",
   "execution_count": 61,
   "id": "83d3ac1b-1a23-4a2c-8d38-e7b7ce534fe8",
   "metadata": {},
   "outputs": [],
   "source": [
    "personal_information[\"age\"] = 75"
   ]
  },
  {
   "cell_type": "code",
   "execution_count": 62,
   "id": "94d24196-aa08-4970-b6f1-7cb0b6bbf9e6",
   "metadata": {},
   "outputs": [
    {
     "data": {
      "text/plain": [
       "'Pm4Success International'"
      ]
     },
     "execution_count": 62,
     "metadata": {},
     "output_type": "execute_result"
    }
   ],
   "source": [
    "personal_information.pop(\"company\")"
   ]
  },
  {
   "cell_type": "code",
   "execution_count": 65,
   "id": "74ed18ac-b3da-4913-83d2-cf96a4439e52",
   "metadata": {},
   "outputs": [
    {
     "name": "stdout",
     "output_type": "stream",
     "text": [
      "name Udeh Innocent\n",
      "position Trainee\n",
      "age 75\n"
     ]
    }
   ],
   "source": [
    "for k, v in personal_information.items():\n",
    "    print(k,v)"
   ]
  },
  {
   "cell_type": "code",
   "execution_count": 69,
   "id": "2a710164-e134-4c86-9299-19f90c76a7f1",
   "metadata": {},
   "outputs": [
    {
     "name": "stdout",
     "output_type": "stream",
     "text": [
      "Innocent 30\n",
      "Tamuno 27\n",
      "Chidinma 33\n",
      "Shola 35\n"
     ]
    }
   ],
   "source": [
    "trainees = {\n",
    "    \"names\": [\"Innocent\", \"Tamuno\", \"Chidinma\", \"Shola\"],\n",
    "    \"age\": [30,27,33, 35]\n",
    "}\n",
    "\n",
    "for n, a in zip(trainees[\"names\"], trainees[\"age\"]):\n",
    "    print(f\"{n} {a}\")"
   ]
  },
  {
   "cell_type": "markdown",
   "id": "207f6ff4-76d7-4b0e-b8ba-c37adb65bccb",
   "metadata": {},
   "source": [
    "# Working with Functions (cntd)"
   ]
  },
  {
   "cell_type": "code",
   "execution_count": 5,
   "id": "c5bc9cfd-b3d6-413c-b43b-d6369bb541bb",
   "metadata": {},
   "outputs": [],
   "source": [
    "def farewell_message(name):\n",
    "    msg = f\"Dear {name}, it is with a great joy in our heart to bid you farewell. have a lovely life ahead, Dear {name}.\"\n",
    "    return msg"
   ]
  },
  {
   "cell_type": "code",
   "execution_count": 9,
   "id": "5da73206-c801-4eae-b1d7-0bcecb619a4c",
   "metadata": {},
   "outputs": [
    {
     "data": {
      "text/plain": [
       "'Dear Innocent, it is with a great joy in our heart to bid you farewell. have a lovely life ahead, Dear Innocent.'"
      ]
     },
     "execution_count": 9,
     "metadata": {},
     "output_type": "execute_result"
    }
   ],
   "source": [
    "# function calling\n",
    "farewell_message(\"Innocent\")"
   ]
  },
  {
   "cell_type": "code",
   "execution_count": 10,
   "id": "9eabf181-447c-49c5-ba1f-f35409f1a392",
   "metadata": {},
   "outputs": [
    {
     "data": {
      "text/plain": [
       "'Dear Kosi, it is with a great joy in our heart to bid you farewell. have a lovely life ahead, Dear Kosi.'"
      ]
     },
     "execution_count": 10,
     "metadata": {},
     "output_type": "execute_result"
    }
   ],
   "source": [
    "farewell_message(\"Kosi\")"
   ]
  },
  {
   "cell_type": "code",
   "execution_count": 17,
   "id": "8e6825b4-84dd-415a-aa97-9403dfce9865",
   "metadata": {},
   "outputs": [],
   "source": [
    "def find_max(a,b,c):\n",
    "    if a > b > c:\n",
    "        return a\n",
    "    elif a < b > c:\n",
    "        return b\n",
    "    else:\n",
    "        return c"
   ]
  },
  {
   "cell_type": "code",
   "execution_count": 18,
   "id": "119daac9-b448-4acc-bfc0-159dc3b1ba43",
   "metadata": {},
   "outputs": [
    {
     "data": {
      "text/plain": [
       "9"
      ]
     },
     "execution_count": 18,
     "metadata": {},
     "output_type": "execute_result"
    }
   ],
   "source": [
    "find_max(4,7,9)"
   ]
  },
  {
   "cell_type": "code",
   "execution_count": 19,
   "id": "1ea64f0e-bc7f-4bb8-8f74-957e112e3784",
   "metadata": {},
   "outputs": [],
   "source": [
    "def calc_interest(p,r,t):\n",
    "    i = (p * r * t)/100\n",
    "    return i"
   ]
  },
  {
   "cell_type": "code",
   "execution_count": 22,
   "id": "4b5c6ee6-9cfd-4331-aeae-a95310ff01e2",
   "metadata": {},
   "outputs": [
    {
     "data": {
      "text/plain": [
       "12768.0"
      ]
     },
     "execution_count": 22,
     "metadata": {},
     "output_type": "execute_result"
    }
   ],
   "source": [
    "calc_interest(79800, 8, 2)"
   ]
  },
  {
   "cell_type": "markdown",
   "id": "5c049b1e-cecf-4660-a8f6-4d3cb5d4bbf6",
   "metadata": {},
   "source": [
    "## Passing Default Arguments\n",
    "#### If there are more than one arguments, if you want to pass only one default value\n",
    "#### you can only do so to the last parameter, (assigning default values starts from the last parameter) "
   ]
  },
  {
   "cell_type": "code",
   "execution_count": 23,
   "id": "b8380531-53d5-4f86-90ae-3c2d350d2c1b",
   "metadata": {},
   "outputs": [],
   "source": [
    "def power(base, power = 2):\n",
    "    return base ** power"
   ]
  },
  {
   "cell_type": "code",
   "execution_count": 24,
   "id": "d6313c5f-2abe-45f4-bcfa-16dce24597df",
   "metadata": {},
   "outputs": [
    {
     "data": {
      "text/plain": [
       "9"
      ]
     },
     "execution_count": 24,
     "metadata": {},
     "output_type": "execute_result"
    }
   ],
   "source": [
    "power(3)  # This takes the default value of power as 2"
   ]
  },
  {
   "cell_type": "code",
   "execution_count": 25,
   "id": "73b95e97-5ea0-4268-8c29-5d62ccfaa64c",
   "metadata": {},
   "outputs": [],
   "source": [
    "def addAllValues(*values):\n",
    "    ans = 0\n",
    "    for i in values:\n",
    "        ans = ans + i\n",
    "    return ans"
   ]
  },
  {
   "cell_type": "code",
   "execution_count": 26,
   "id": "c75f8906-3030-4372-90d6-675043242ff3",
   "metadata": {},
   "outputs": [
    {
     "data": {
      "text/plain": [
       "30"
      ]
     },
     "execution_count": 26,
     "metadata": {},
     "output_type": "execute_result"
    }
   ],
   "source": [
    "addAllValues(2,4,6,8,10)"
   ]
  },
  {
   "cell_type": "code",
   "execution_count": 1,
   "id": "f741cba7-534c-49a0-992b-238ae2bef6b8",
   "metadata": {},
   "outputs": [
    {
     "data": {
      "text/plain": [
       "['1', '2', '3', '4']"
      ]
     },
     "execution_count": 1,
     "metadata": {},
     "output_type": "execute_result"
    }
   ],
   "source": [
    "'1,2,3,4'.split(',')"
   ]
  },
  {
   "cell_type": "markdown",
   "id": "63a78e06-e3ed-4e39-a26a-1281caed8950",
   "metadata": {},
   "source": [
    "## Working with Keyword Argument (**Kwargs)"
   ]
  },
  {
   "cell_type": "code",
   "execution_count": 20,
   "id": "6a308260-f41a-4056-9860-10f5d70fd5cc",
   "metadata": {},
   "outputs": [],
   "source": [
    "def desc_person(**kwargs):\n",
    "    describe_person = ', '.join(f\"{k} is {v}\" for k,v in kwargs.items()) # This iterates throgh the multiple pairs of keys and Values Arguments passed\n",
    "    return f\"Person: {describe_person}\"\n"
   ]
  },
  {
   "cell_type": "code",
   "execution_count": 21,
   "id": "190807b7-1818-46c7-9ba6-7f56c218f1c8",
   "metadata": {},
   "outputs": [
    {
     "data": {
      "text/plain": [
       "'Person: name is Alice, Age is 30, City is New York, Sex is Male'"
      ]
     },
     "execution_count": 21,
     "metadata": {},
     "output_type": "execute_result"
    }
   ],
   "source": [
    "desc_person(name = \"Alice\", Age = 30, City = \"New York\", Sex = \"Male\")"
   ]
  },
  {
   "cell_type": "code",
   "execution_count": 36,
   "id": "1d654aeb-63a4-49ff-90de-4ab7c00e2494",
   "metadata": {},
   "outputs": [],
   "source": [
    "# A function to multiply any given number of given integers and return the squareroot of the result\n",
    "\n",
    "def calc(*num):\n",
    "    ans = 1\n",
    "    for i in num:\n",
    "        ans *= i\n",
    "    sqrt = ans ** 0.5 # Sruare root\n",
    "    return sqrt"
   ]
  },
  {
   "cell_type": "code",
   "execution_count": 37,
   "id": "5c20af9d-bbb0-47d9-87ca-11fb18755d2b",
   "metadata": {},
   "outputs": [
    {
     "data": {
      "text/plain": [
       "6.0"
      ]
     },
     "execution_count": 37,
     "metadata": {},
     "output_type": "execute_result"
    }
   ],
   "source": [
    "calc(2,3,6)"
   ]
  },
  {
   "cell_type": "markdown",
   "id": "67cf4412-8b44-4ef2-ab85-7b8bcc23bf81",
   "metadata": {},
   "source": [
    "# Lambda Functions\n",
    "<p>Lambda Functions are small, anonymous fuctions defined with the lambda keyword. They are used for short, throwaway functions that are not needed elsewhere.</p>\n",
    "<p>keyword <b>lambda</b></p>"
   ]
  },
  {
   "cell_type": "code",
   "execution_count": 1,
   "id": "29ecb4fd-2327-4cef-a987-28c57b0169d4",
   "metadata": {},
   "outputs": [],
   "source": [
    "squares = lambda x: x ** 2"
   ]
  },
  {
   "cell_type": "code",
   "execution_count": 2,
   "id": "de13aae2-239a-464a-b809-72f92945fea4",
   "metadata": {},
   "outputs": [
    {
     "data": {
      "text/plain": [
       "25"
      ]
     },
     "execution_count": 2,
     "metadata": {},
     "output_type": "execute_result"
    }
   ],
   "source": [
    "squares(5)"
   ]
  },
  {
   "cell_type": "markdown",
   "id": "ef044ddf-465f-4303-8164-17396f54f474",
   "metadata": {},
   "source": [
    " ### Usage of LAMBDA"
   ]
  },
  {
   "cell_type": "code",
   "execution_count": 8,
   "id": "f2f9da3b-70ec-46ec-af48-abbf59fcef3b",
   "metadata": {},
   "outputs": [
    {
     "data": {
      "text/plain": [
       "[1, 4, 9, 16, 25, 36]"
      ]
     },
     "execution_count": 8,
     "metadata": {},
     "output_type": "execute_result"
    }
   ],
   "source": [
    "# With MAP\n",
    "number = [1, 2, 3, 4, 5, 6]\n",
    "sqr_number = list(map(lambda n: n ** 2, number)) # this takes the lambda function and maps it into the number list, then convert it to a list\n",
    "sqr_number"
   ]
  },
  {
   "cell_type": "code",
   "execution_count": 9,
   "id": "6b59b32b-b8d8-4fea-819a-d72545fd2351",
   "metadata": {},
   "outputs": [
    {
     "data": {
      "text/plain": [
       "[2, 4, 6]"
      ]
     },
     "execution_count": 9,
     "metadata": {},
     "output_type": "execute_result"
    }
   ],
   "source": [
    "# with filter\n",
    "even_number = list(filter(lambda x: x % 2 == 0, number))\n",
    "even_number"
   ]
  },
  {
   "cell_type": "code",
   "execution_count": 11,
   "id": "ce432d87-8653-4e72-8eb1-1cce8e251080",
   "metadata": {},
   "outputs": [
    {
     "data": {
      "text/plain": [
       "['Joy', 'David', 'Tamuno', 'Innocent', 'Chidinma']"
      ]
     },
     "execution_count": 11,
     "metadata": {},
     "output_type": "execute_result"
    }
   ],
   "source": [
    "# With Sorted\n",
    "names = [\"Innocent\", \"Joy\", \"Tamuno\", \"Chidinma\", \"David\"]\n",
    "\n",
    "sorted(names, key = lambda x : len(x)) # sorting by length since the default of sorting is alphabetically from the first letter\n",
    "#key is to specify the order to use to sort it (eg) length, index"
   ]
  },
  {
   "cell_type": "code",
   "execution_count": 12,
   "id": "d8478309-6d69-4d62-abcd-cb811012767b",
   "metadata": {},
   "outputs": [],
   "source": [
    "## Limitations to lambda functions\n",
    "##Readability: overuse can lead to less readable code\n",
    "## Not suitable for single expressions"
   ]
  },
  {
   "cell_type": "code",
   "execution_count": 13,
   "id": "71706343-cc78-4a57-9997-dbd6cbac89f8",
   "metadata": {},
   "outputs": [],
   "source": [
    "cube = lambda x : x ** 3"
   ]
  },
  {
   "cell_type": "code",
   "execution_count": 14,
   "id": "eb875fb9-54ca-4e30-a25e-6c39120b8c31",
   "metadata": {},
   "outputs": [
    {
     "data": {
      "text/plain": [
       "27"
      ]
     },
     "execution_count": 14,
     "metadata": {},
     "output_type": "execute_result"
    }
   ],
   "source": [
    "cube(3)"
   ]
  },
  {
   "cell_type": "markdown",
   "id": "8e3dcc8f-0318-43bf-8e97-5d738a7c55cb",
   "metadata": {},
   "source": [
    "# Recursion\n",
    "<p>When a method calls itself in order to solve a problem</p>\n",
    "<p>A recursion function must have a BASE case to stop the recursion, and a RECURSIVE case that continues the process</p>"
   ]
  },
  {
   "cell_type": "code",
   "execution_count": 15,
   "id": "f315b18f-ba6c-4e64-afd8-23a364b3e854",
   "metadata": {},
   "outputs": [],
   "source": [
    "# Calculating the factorial of a number\n",
    "def factorial(n):\n",
    "    if n == 0: # Base case\n",
    "        return 1\n",
    "    else: # Recursive case\n",
    "        return n * factorial(n-1) "
   ]
  },
  {
   "cell_type": "code",
   "execution_count": 16,
   "id": "822fcd89-6919-44fa-88e9-0fd97d8d242a",
   "metadata": {},
   "outputs": [
    {
     "data": {
      "text/plain": [
       "120"
      ]
     },
     "execution_count": 16,
     "metadata": {},
     "output_type": "execute_result"
    }
   ],
   "source": [
    "factorial(5)"
   ]
  },
  {
   "cell_type": "code",
   "execution_count": 71,
   "id": "56772f44-e3e3-4361-bb53-6efeda69efdf",
   "metadata": {},
   "outputs": [],
   "source": [
    "def factorial_int(n):\n",
    "    if n < 0:\n",
    "        return f\"No negative Factorial\" # Handles no negative\n",
    "    if type(n) == float:\n",
    "        n = int(n) # Handles the float values\n",
    "    if n == 0: # Base case\n",
    "        return 1\n",
    "    else: # Recursive case\n",
    "        return n * factorial_int(n-1) "
   ]
  },
  {
   "cell_type": "code",
   "execution_count": 72,
   "id": "b08a5dac-3b08-4891-b983-d5db677a4ec9",
   "metadata": {},
   "outputs": [
    {
     "data": {
      "text/plain": [
       "'No negative Factorial'"
      ]
     },
     "execution_count": 72,
     "metadata": {},
     "output_type": "execute_result"
    }
   ],
   "source": [
    "factorial_int(-5)"
   ]
  },
  {
   "cell_type": "code",
   "execution_count": 31,
   "id": "4766b8d4-1665-4ec6-b3df-77f16262c0c7",
   "metadata": {},
   "outputs": [
    {
     "data": {
      "text/plain": [
       "120"
      ]
     },
     "execution_count": 31,
     "metadata": {},
     "output_type": "execute_result"
    }
   ],
   "source": [
    "factorial_int(5.4)"
   ]
  },
  {
   "cell_type": "code",
   "execution_count": 32,
   "id": "84e95bd0-cdaa-4b03-93c1-fe2cea535060",
   "metadata": {},
   "outputs": [],
   "source": [
    "# Calculating fibonacci\n",
    "def fibonacci(n):\n",
    "    if n <= 1:\n",
    "        return n\n",
    "    else:\n",
    "        return fibonacci(n-1) + fibonacci(n-2)"
   ]
  },
  {
   "cell_type": "code",
   "execution_count": 33,
   "id": "1d86fa95-0484-4211-a82b-8477ae10efc1",
   "metadata": {},
   "outputs": [
    {
     "data": {
      "text/plain": [
       "13"
      ]
     },
     "execution_count": 33,
     "metadata": {},
     "output_type": "execute_result"
    }
   ],
   "source": [
    "fibonacci(7)"
   ]
  },
  {
   "cell_type": "code",
   "execution_count": 34,
   "id": "876340e4-cb42-4b15-a907-c9d7da037896",
   "metadata": {},
   "outputs": [],
   "source": [
    "def sum_list(lst):\n",
    "    if not lst:\n",
    "        return 0\n",
    "    else:\n",
    "        return lst[0] + sum_list(lst[1:])"
   ]
  },
  {
   "cell_type": "code",
   "execution_count": 35,
   "id": "447f8f09-4d23-47b7-b844-23db1a27c7ef",
   "metadata": {},
   "outputs": [
    {
     "data": {
      "text/plain": [
       "15"
      ]
     },
     "execution_count": 35,
     "metadata": {},
     "output_type": "execute_result"
    }
   ],
   "source": [
    "sum_list([3,5,7])"
   ]
  },
  {
   "cell_type": "code",
   "execution_count": 1,
   "id": "34242198-7e04-4919-95b6-4ed205f3d778",
   "metadata": {},
   "outputs": [],
   "source": [
    "def prd_list(x):\n",
    "    if not x: # when it gets to the last value, the value it will return\n",
    "        return 1\n",
    "    else:\n",
    "        return x[0] * prd_list(x[1:])"
   ]
  },
  {
   "cell_type": "code",
   "execution_count": 2,
   "id": "40dd2633-50f0-46af-b7cd-a0740b0f59d9",
   "metadata": {},
   "outputs": [
    {
     "data": {
      "text/plain": [
       "120"
      ]
     },
     "execution_count": 2,
     "metadata": {},
     "output_type": "execute_result"
    }
   ],
   "source": [
    "prd_list([2,3,4,5])"
   ]
  },
  {
   "cell_type": "code",
   "execution_count": 69,
   "id": "0e8c525d-515c-40c5-af77-aa43f79d49b8",
   "metadata": {},
   "outputs": [],
   "source": [
    "# iteration for factorial\n",
    "\n",
    "def fac(n):\n",
    "    res  = 1\n",
    "    if 0 > n:\n",
    "        return f\"No negative Factorial\" # Handles no negative\n",
    "    if 0 == n == 1:\n",
    "        return 1\n",
    "    if type(n) == float:\n",
    "        n = int(n) # Handles the float values\n",
    "    for i in range(1,n+1):\n",
    "        res *= i\n",
    "    return res"
   ]
  },
  {
   "cell_type": "code",
   "execution_count": 70,
   "id": "aaa37eca-f719-43d4-ad87-a81d4865ec8e",
   "metadata": {},
   "outputs": [
    {
     "data": {
      "text/plain": [
       "720"
      ]
     },
     "execution_count": 70,
     "metadata": {},
     "output_type": "execute_result"
    }
   ],
   "source": [
    "fac(6)"
   ]
  },
  {
   "cell_type": "code",
   "execution_count": 73,
   "id": "ecbaa680-6bf5-44ae-84bd-5a727b52c749",
   "metadata": {},
   "outputs": [],
   "source": [
    "# fibonacci with iteration\n",
    "def generateFibonacci(a,b,n):\n",
    "    sequence = [a,b]\n",
    "    while len(sequence) < n:\n",
    "        sequence.append(sequence[-1] + sequence[-2])\n",
    "    return sequence"
   ]
  },
  {
   "cell_type": "markdown",
   "id": "f7f684fc-c23b-4513-aca8-0d8025d151eb",
   "metadata": {},
   "source": [
    "## Modules and Packages\n",
    "<p>Modules are python files with functions, classes</p>\n",
    "\n",
    "<p>Packages are collection of modules</p>"
   ]
  },
  {
   "cell_type": "code",
   "execution_count": 74,
   "id": "8fa19eb8-0559-4545-8da4-58c6fa6a54ba",
   "metadata": {},
   "outputs": [],
   "source": [
    "import math"
   ]
  },
  {
   "cell_type": "code",
   "execution_count": 75,
   "id": "857f7854-6906-4685-9f64-1ba78b1b0eff",
   "metadata": {},
   "outputs": [
    {
     "data": {
      "text/plain": [
       "120"
      ]
     },
     "execution_count": 75,
     "metadata": {},
     "output_type": "execute_result"
    }
   ],
   "source": [
    "math.factorial(5)"
   ]
  },
  {
   "cell_type": "code",
   "execution_count": 76,
   "id": "0e436ceb-45a3-4ae7-83b4-96b6586a1104",
   "metadata": {},
   "outputs": [
    {
     "data": {
      "text/plain": [
       "5.0"
      ]
     },
     "execution_count": 76,
     "metadata": {},
     "output_type": "execute_result"
    }
   ],
   "source": [
    "math.sqrt(25)"
   ]
  },
  {
   "cell_type": "code",
   "execution_count": 77,
   "id": "81510049-03a3-48d8-aff0-0e958e6a4e45",
   "metadata": {},
   "outputs": [],
   "source": [
    "from datetime import datetime"
   ]
  },
  {
   "cell_type": "code",
   "execution_count": 79,
   "id": "a58e4bdf-4991-457d-a9d7-ff7366df2e91",
   "metadata": {},
   "outputs": [
    {
     "data": {
      "text/plain": [
       "datetime.datetime(2025, 6, 24, 14, 51, 50, 98749)"
      ]
     },
     "execution_count": 79,
     "metadata": {},
     "output_type": "execute_result"
    }
   ],
   "source": [
    "datetime.now()"
   ]
  },
  {
   "cell_type": "code",
   "execution_count": null,
   "id": "357c8244-868c-42f7-b993-95e872b5ed0d",
   "metadata": {},
   "outputs": [],
   "source": [
    "math.pi"
   ]
  }
 ],
 "metadata": {
  "kernelspec": {
   "display_name": "Python 3 (ipykernel)",
   "language": "python",
   "name": "python3"
  },
  "language_info": {
   "codemirror_mode": {
    "name": "ipython",
    "version": 3
   },
   "file_extension": ".py",
   "mimetype": "text/x-python",
   "name": "python",
   "nbconvert_exporter": "python",
   "pygments_lexer": "ipython3",
   "version": "3.12.7"
  }
 },
 "nbformat": 4,
 "nbformat_minor": 5
}
