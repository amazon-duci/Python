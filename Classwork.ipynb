{
 "cells": [
  {
   "cell_type": "markdown",
   "id": "3efab88e-86c1-49dc-a3db-43120dfcee86",
   "metadata": {},
   "source": [
    "# Task 1\n",
    "<p><b>Input:</b> Ask the user to enter a piece of text.</p>\n",
    "<p><b>word Count:</b> Count the number of characters in the text.</p>\n",
    "<p><b>Loop:</b> Use a loop to count specific features like the number of vowels.</p>\n",
    "<p><b>Output:</b> Display the results to the user</p>"
   ]
  },
  {
   "cell_type": "code",
   "execution_count": 1,
   "id": "84755830-0168-4c00-b586-1353ebc3a539",
   "metadata": {},
   "outputs": [
    {
     "name": "stdin",
     "output_type": "stream",
     "text": [
      "Enter a piece of text:  ada\n"
     ]
    },
    {
     "name": "stdout",
     "output_type": "stream",
     "text": [
      "Your texts are: 'ada' \n",
      "Number of words: 1 \n",
      "Number of Characters typed: 3 \n",
      "Number of vowels in Characters typed: 2\n"
     ]
    }
   ],
   "source": [
    "entry =  input(\"Enter a piece of text: \").lower()\n",
    "words = entry.split(' ')\n",
    "word_len = len(words)\n",
    "char_len = len (entry)\n",
    "vowels = ['a','e','i','o','u']\n",
    "vowel_count = []\n",
    "for word in words:\n",
    "    for v in vowels:\n",
    "        for i in range(len(word)):\n",
    "            if v == word[i]:\n",
    "                vowel_count.append(v)\n",
    "                pass\n",
    "print(f\"Your texts are: '{entry}' \\nNumber of words: {word_len} \\nNumber of Characters typed: {char_len} \\nNumber of vowels in Characters typed: {len(vowel_count)}\")"
   ]
  },
  {
   "cell_type": "markdown",
   "id": "bba7c7a3-4b16-4f8b-bdde-9700e7665c17",
   "metadata": {},
   "source": [
    "# Task 2\n",
    "\n",
    "<p> <b>Generate a Number:</b> Generate a random number between 1 and 50.</p>\n",
    "<p><b>Guess:</b> Prompt the user to enter a sentence.</p>"
   ]
  },
  {
   "cell_type": "code",
   "execution_count": 2,
   "id": "6a592977-b7a4-4604-946b-f9577648694b",
   "metadata": {},
   "outputs": [
    {
     "name": "stdin",
     "output_type": "stream",
     "text": [
      "Enter a Number between 1 and 50:  34\n"
     ]
    },
    {
     "name": "stdout",
     "output_type": "stream",
     "text": [
      "\n",
      "Number guessed is too low\n"
     ]
    },
    {
     "name": "stdin",
     "output_type": "stream",
     "text": [
      "Enter a Number between 1 and 50:  45\n"
     ]
    },
    {
     "name": "stdout",
     "output_type": "stream",
     "text": [
      "\n",
      "You guessed right\n"
     ]
    }
   ],
   "source": [
    "import random\n",
    "rand_num = random.randint(1, 50)\n",
    "user_guess = ''\n",
    "while rand_num != user_guess:\n",
    "    user_guess = int(input(\"\\nEnter a Number between 1 and 50: \"))\n",
    "    if user_guess < rand_num:\n",
    "        print(\"Number guessed is too low\")\n",
    "    elif user_guess > rand_num:\n",
    "        print(\"Number guessed is too high\")\n",
    "    else:\n",
    "        print(\"\\nYou guessed right\")\n",
    "    "
   ]
  },
  {
   "cell_type": "markdown",
   "id": "6d4ace2c-55bc-438e-8209-cde2e95561dd",
   "metadata": {},
   "source": [
    "# Task 3\n",
    "<p><b>Input:</b> Prompt the user to enter a sentence.</p>\n",
    "<p><b>String Manipulation:</b> Split the sentence into words, reverse the list of words, and join them back into a string</p>\n",
    "<p><b>Output:</b> Display the reversed sentence.</p>"
   ]
  },
  {
   "cell_type": "code",
   "execution_count": 3,
   "id": "3db9b5db-b9b7-415e-85cf-cb3bca847963",
   "metadata": {},
   "outputs": [
    {
     "name": "stdin",
     "output_type": "stream",
     "text": [
      "Enter a sentence:  ada\n"
     ]
    },
    {
     "name": "stdout",
     "output_type": "stream",
     "text": [
      "The reversed statement : ada\n"
     ]
    }
   ],
   "source": [
    "entry =  input(\"Enter a sentence: \")\n",
    "words = entry.split(\" \")\n",
    "word_copy = words.copy()\n",
    "word_copy.reverse()\n",
    "my_join = \" \".join(word_copy)\n",
    "print(f\"The reversed statement : {my_join}\")"
   ]
  },
  {
   "cell_type": "markdown",
   "id": "8a26fe43-efdd-4a28-b7d7-631f34b4a051",
   "metadata": {},
   "source": [
    "# Task 4\n",
    "<p><b>Input:</b> Ask the user to enter a Number</p>\n",
    "<p><b>Loop:</b> Use a loop to generate and display the multiplication table for that number up to 12</p>\n",
    "<p><b>Output:</b> Display the table in a clear format</p>"
   ]
  },
  {
   "cell_type": "code",
   "execution_count": 20,
   "id": "54b3ed15-83ed-4060-9008-bb57c27e2f5e",
   "metadata": {},
   "outputs": [
    {
     "name": "stdin",
     "output_type": "stream",
     "text": [
      "Enter an Integer:  67\n"
     ]
    },
    {
     "name": "stdout",
     "output_type": "stream",
     "text": [
      "\n",
      "Multiples of 67\n",
      "67 * 1 = 67\n",
      "67 * 2 = 134\n",
      "67 * 3 = 201\n",
      "67 * 4 = 268\n",
      "67 * 5 = 335\n",
      "67 * 6 = 402\n",
      "67 * 7 = 469\n",
      "67 * 8 = 536\n",
      "67 * 9 = 603\n",
      "67 * 10 = 670\n",
      "67 * 11 = 737\n",
      "67 * 12 = 804\n"
     ]
    }
   ],
   "source": [
    "entry =  int(input(\"Enter an Integer: \"))\n",
    "print(f\"\\nMultiples of {entry}\")\n",
    "for i in range(1,13):\n",
    "    print(f\"{entry} * {i} = {i * entry}\")"
   ]
  },
  {
   "cell_type": "markdown",
   "id": "39ae29ea-26b9-4ffb-8b06-b2ad03f1fe42",
   "metadata": {},
   "source": [
    "# Task 5\n",
    "<p><b>Initial Setup:</b> Start with a predefined balance</p>\n",
    "<p><b>Menu:</b> Display a menu with options to check balance, deposit money, withraw money, or exit</p>\n",
    "\n",
    "<p><b>Operations:</b> Use conditional statements to perform the selected operation</p>\n",
    "<p><b>Loop:</b> Allow the user to perform multiple operations until they choose to exit</p>"
   ]
  },
  {
   "cell_type": "code",
   "execution_count": 2,
   "id": "796719b2-f5e4-4433-a11d-d97d47150023",
   "metadata": {},
   "outputs": [
    {
     "name": "stdin",
     "output_type": "stream",
     "text": [
      "Enter your PIN:  1357\n"
     ]
    },
    {
     "name": "stdout",
     "output_type": "stream",
     "text": [
      "\n",
      "Dear Shola,\n",
      "Select an action:\n",
      "1 -- Check Balance\n",
      "2 -- Deposit\n",
      "3 -- Withdraw\n",
      "4 -- Exit\n"
     ]
    },
    {
     "name": "stdin",
     "output_type": "stream",
     "text": [
      "Enter the action number:  1\n"
     ]
    },
    {
     "name": "stdout",
     "output_type": "stream",
     "text": [
      "\n",
      "\n",
      "Your balance is: $ 46777.0\n"
     ]
    },
    {
     "name": "stdin",
     "output_type": "stream",
     "text": [
      "\n",
      "Do you want to perform another transaction? (Y/N):  n\n"
     ]
    },
    {
     "name": "stdout",
     "output_type": "stream",
     "text": [
      "\n",
      "Thank you, Shola. Session ended.\n"
     ]
    }
   ],
   "source": [
    "import random\n",
    "\n",
    "# Functions to do individual actions\n",
    "def check_balance(name, bal):\n",
    "    display = f\"\\nYour balance is: $ {bal}\"\n",
    "    return display\n",
    "\n",
    "def deposit(bal, amount):\n",
    "    return bal + amount\n",
    "\n",
    "def withdraw(bal, amount):\n",
    "    return bal - amount\n",
    "\n",
    "# User stored pins with names\n",
    "pins = {\n",
    "    \"1234\": \"Innocent\",\n",
    "    \"1357\": \"Shola\",\n",
    "    \"2468\": \"Chidinma\",\n",
    "    \"5678\": \"Tamuno\"\n",
    "}\n",
    "\n",
    "pinList = []\n",
    "for pin, name in pins.items():\n",
    "    pinList.append(int(pin))\n",
    "\n",
    "balance = float(random.randint(1, 50000)) # Generating a one-time predefined balance\n",
    "\n",
    "count = 3 #To keep track of the attempts\n",
    "exit = False #To keep track of session Status\n",
    "\n",
    "while count > 0:\n",
    "    pin_entry = int(input(\"Enter your PIN: \")) # Prompting the user to enter his/her PIN\n",
    "   \n",
    "    if pin_entry not in pinList: # Checking if the pin the user entered is in the list of pins\n",
    "        count -= 1 #controlling the number of attempts\n",
    "        if count == 0:\n",
    "            print(\"Card Swallowed. Please contact your bank.\")\n",
    "            break\n",
    "        else:\n",
    "            print(f\"Incorrect PIN\\nYou have {count} more trial(s)\")\n",
    "            continue\n",
    "    else:\n",
    "        pin_entry_str = str(pin_entry) #Type casting to suit the key type in the dictionary\n",
    "        name = pins[pin_entry_str] # Grabing the name assigned to the pin in the dictionary\n",
    "        while exit == False:\n",
    "            print(f\"\\nDear {name},\")\n",
    "            print(\"Select an action:\")\n",
    "            print(\"1 -- Check Balance\")\n",
    "            print(\"2 -- Deposit\")\n",
    "            print(\"3 -- Withdraw\")\n",
    "            print(\"4 -- Exit\")\n",
    "\n",
    "            user_click = int(input(\"Enter the action number: \"))\n",
    "\n",
    "            if user_click < 1 or user_click > 4:\n",
    "                print(\"Invalid input. Please input a number from 1 to 4.\")\n",
    "                continue\n",
    "\n",
    "            elif user_click == 1:\n",
    "                print(f\"\\n{check_balance(name, balance)}\")\n",
    "            elif user_click == 2:\n",
    "                user_amount = float(input(\"Enter the amount to deposit: \"))\n",
    "                balance = deposit(balance, user_amount)\n",
    "                print(f\"\\nYour Current balance is $ {balance}\")\n",
    "               \n",
    "            elif user_click == 3:\n",
    "                user_amount = float(input(\"Enter the amount to withdraw: \"))\n",
    "                if user_amount > balance:\n",
    "                    print(\"\\nInsufficient Funds\")\n",
    "                else:\n",
    "                    balance = withdraw(balance, user_amount)\n",
    "                    print(f\"\\nYour Current balance is $ {balance}\")\n",
    "\n",
    "            elif user_click == 4:\n",
    "                print(f\"\\nThank you, {name}. Session ended.\")\n",
    "                exit = True\n",
    "                break\n",
    "            # Ask if user wants another transaction\n",
    "            retry = input(\"\\nDo you want to perform another transaction? (Y/N): \").strip().lower()\n",
    "            if retry != 'y':\n",
    "                while retry != \"n\":\n",
    "                    print(\"\\nInvalid Entry\")\n",
    "                    retry = input(\"\\nDo you want to perform another transaction? (Y/N): \").strip().lower()\n",
    "                print(f\"\\nThank you, {name}. Session ended.\")\n",
    "                break\n",
    "            else:\n",
    "                continue\n",
    "        break         "
   ]
  },
  {
   "cell_type": "markdown",
   "id": "e92278c5-ed9b-44ae-901d-cf12df881fd4",
   "metadata": {},
   "source": [
    "# Task 6\n",
    "<p><b>Input:</b> Prompt the user to enter a temperature value and the unit (Celcius or Fahrenheit)</p>\n",
    "<p><b>Conversion:</b> Use conditional statements to convert the temperature to the other unit</p>\n",
    "<p><b>Output:</b> display the coverted temperature</p>"
   ]
  },
  {
   "cell_type": "code",
   "execution_count": 14,
   "id": "e4f0661a-bd28-4a7f-a8f6-02c7c9f39418",
   "metadata": {},
   "outputs": [
    {
     "name": "stdin",
     "output_type": "stream",
     "text": [
      "Enter the temperature:  56\n",
      "Enter the unit (C for Celsius, F for Fahrenheit):  f\n"
     ]
    },
    {
     "name": "stdout",
     "output_type": "stream",
     "text": [
      "56.0°F is 13.33°C\n"
     ]
    }
   ],
   "source": [
    "# Temperature Converter: Celsius <--> Fahrenheit\n",
    "\n",
    "temp = float(input(\"Enter the temperature: \"))\n",
    "unit = input(\"Enter the unit (C for Celsius, F for Fahrenheit): \").strip().upper()\n",
    "\n",
    "if unit == 'C':\n",
    "    converted = (temp * 9/5) + 32\n",
    "    print(f\"{temp}°C is {converted:.2f}°F\")\n",
    "elif unit == 'F':\n",
    "    converted = (temp - 32) * 5/9\n",
    "    print(f\"{temp}°F is {converted:.2f}°C\")\n",
    "else:\n",
    "    print(\"Invalid unit! Please enter C for Celsius or F for Fahrenheit.\")\n"
   ]
  },
  {
   "cell_type": "code",
   "execution_count": null,
   "id": "f847e76f-74db-47db-8392-7054220b0ba3",
   "metadata": {},
   "outputs": [],
   "source": []
  }
 ],
 "metadata": {
  "kernelspec": {
   "display_name": "Python 3 (ipykernel)",
   "language": "python",
   "name": "python3"
  },
  "language_info": {
   "codemirror_mode": {
    "name": "ipython",
    "version": 3
   },
   "file_extension": ".py",
   "mimetype": "text/x-python",
   "name": "python",
   "nbconvert_exporter": "python",
   "pygments_lexer": "ipython3",
   "version": "3.12.7"
  }
 },
 "nbformat": 4,
 "nbformat_minor": 5
}
