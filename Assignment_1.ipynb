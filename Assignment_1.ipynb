{
 "cells": [
  {
   "cell_type": "markdown",
   "id": "3b6bf5fe-5700-482f-a641-9d9bfbcbed55",
   "metadata": {},
   "source": [
    "# Festival of Triangles"
   ]
  },
  {
   "cell_type": "code",
   "execution_count": 1,
   "id": "d4ebac23-a661-4755-900f-5cf8287eaa2e",
   "metadata": {},
   "outputs": [
    {
     "name": "stdin",
     "output_type": "stream",
     "text": [
      "How many Pole Lengths are expected to be in the list?  5\n",
      "\n",
      "Enter the length of pole 1:  3\n",
      "\n",
      "Enter the length of pole 2:  4\n",
      "\n",
      "Enter the length of pole 3:  6\n",
      "\n",
      "Enter the length of pole 4:  7\n",
      "\n",
      "Enter the length of pole 5:  8\n"
     ]
    },
    {
     "name": "stdout",
     "output_type": "stream",
     "text": [
      "\n",
      "Number of valid Triangles: 48\n"
     ]
    }
   ],
   "source": [
    "qty = int(input(\"How many Pole Lengths are expected to be in the list? \"))\n",
    "poleLen = []\n",
    "validLen = []\n",
    "count = 0\n",
    "\n",
    "# Collect distinct pole lengths\n",
    "while count < qty:\n",
    "    length = int(input(f\"\\nEnter the length of pole {count+1}: \"))\n",
    "    if length not in poleLen:\n",
    "        poleLen.append(length)\n",
    "        count += 1\n",
    "    else:\n",
    "        print(f\"Pole of length {length}, already exist in the list\")\n",
    "\n",
    "# Check all ordered combinations of 3 distinct elements\n",
    "for lenA in poleLen:\n",
    "    for lenB in poleLen:\n",
    "        for lenC in poleLen:\n",
    "            # Making sure no element in the list is repeated\n",
    "            if lenA != lenB and lenA != lenC and lenB != lenC: \n",
    "                if (lenA + lenB > lenC) and (lenA + lenC > lenB) and (lenB + lenC > lenA):\n",
    "                    validLen.append((lenA, lenB, lenC))\n",
    "                    \n",
    "# print(validLen)\n",
    "# print(f\"poles = {poleLen}\")\n",
    "print(f\"\\nNumber of valid Triangles: {len(validLen)}\")"
   ]
  },
  {
   "cell_type": "code",
   "execution_count": null,
   "id": "9f1b8ac4-1147-4d29-865d-fc001117398c",
   "metadata": {},
   "outputs": [],
   "source": []
  }
 ],
 "metadata": {
  "kernelspec": {
   "display_name": "Python 3 (ipykernel)",
   "language": "python",
   "name": "python3"
  },
  "language_info": {
   "codemirror_mode": {
    "name": "ipython",
    "version": 3
   },
   "file_extension": ".py",
   "mimetype": "text/x-python",
   "name": "python",
   "nbconvert_exporter": "python",
   "pygments_lexer": "ipython3",
   "version": "3.12.7"
  }
 },
 "nbformat": 4,
 "nbformat_minor": 5
}
