{
 "cells": [
  {
   "cell_type": "markdown",
   "id": "62714642-e0f3-42a5-81bc-2f569baf3fbf",
   "metadata": {},
   "source": [
    "# Codeword Pairs in the Spy Network"
   ]
  },
  {
   "cell_type": "code",
   "execution_count": 1,
   "id": "4996fbb6-af7d-4cb8-b164-d9df239163db",
   "metadata": {},
   "outputs": [
    {
     "name": "stdin",
     "output_type": "stream",
     "text": [
      "How many codes are expected to be in the list?  10\n",
      "What is the Target threat level?  50\n",
      "\n",
      "Enter code number 1:  20\n",
      "\n",
      "Enter code number 2:  25\n",
      "\n",
      "Enter code number 3:  10\n",
      "\n",
      "Enter code number 4:  45\n",
      "\n",
      "Enter code number 5:  30\n",
      "\n",
      "Enter code number 6:  40\n",
      "\n",
      "Enter code number 7:  35\n",
      "\n",
      "Enter code number 8:  35\n"
     ]
    },
    {
     "name": "stdout",
     "output_type": "stream",
     "text": [
      "code Number 35 already in the list\n"
     ]
    },
    {
     "name": "stdin",
     "output_type": "stream",
     "text": [
      "\n",
      "Enter code number 8:  5\n",
      "\n",
      "Enter code number 9:  20\n"
     ]
    },
    {
     "name": "stdout",
     "output_type": "stream",
     "text": [
      "code Number 20 already in the list\n"
     ]
    },
    {
     "name": "stdin",
     "output_type": "stream",
     "text": [
      "\n",
      "Enter code number 9:  5\n"
     ]
    },
    {
     "name": "stdout",
     "output_type": "stream",
     "text": [
      "code Number 5 already in the list\n"
     ]
    },
    {
     "name": "stdin",
     "output_type": "stream",
     "text": [
      "\n",
      "Enter code number 9:  50\n",
      "\n",
      "Enter code number 10:  15\n"
     ]
    },
    {
     "name": "stdout",
     "output_type": "stream",
     "text": [
      "\n",
      "Total Valid Pairs: 8\n"
     ]
    }
   ],
   "source": [
    "numCount = int(input(\"How many codes are expected to be in the list? \"))\n",
    "target = int(input(\"What is the Target threat level? \"))\n",
    "validPair = []\n",
    "codes = []\n",
    "count = 0\n",
    "\n",
    "# Collect code Numbers for the list\n",
    "while count < numCount:\n",
    "    code = int(input(f\"\\nEnter code number {count+1}: \"))\n",
    "    if code not in codes:\n",
    "        codes.append(code)\n",
    "        count += 1\n",
    "    else:\n",
    "        print(f\"code Number {code} already in the list\")\n",
    "\n",
    "# Check all unique combinations of 2 codes to sum up to target\n",
    "for codeA in codes:\n",
    "    for codeB in codes:\n",
    "        if codeA != codeB:\n",
    "            if (codeA + codeB) == target:\n",
    "                validPair.append((codeA, codeB))\n",
    "                    \n",
    "# print(f\"Target: {target}\")\n",
    "# print(f\"\\nitems = {codes}\")\n",
    "print(f\"\\nTotal Valid Pairs: {len(validPair)}\")"
   ]
  },
  {
   "cell_type": "code",
   "execution_count": null,
   "id": "0abbddfc-0203-4c0e-b19e-70047b70f61f",
   "metadata": {},
   "outputs": [],
   "source": []
  }
 ],
 "metadata": {
  "kernelspec": {
   "display_name": "Python 3 (ipykernel)",
   "language": "python",
   "name": "python3"
  },
  "language_info": {
   "codemirror_mode": {
    "name": "ipython",
    "version": 3
   },
   "file_extension": ".py",
   "mimetype": "text/x-python",
   "name": "python",
   "nbconvert_exporter": "python",
   "pygments_lexer": "ipython3",
   "version": "3.12.7"
  }
 },
 "nbformat": 4,
 "nbformat_minor": 5
}
