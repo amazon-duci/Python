{
 "cells": [
  {
   "cell_type": "markdown",
   "id": "668c5be1-35c2-4cad-86f9-5cc7de0fd8a4",
   "metadata": {},
   "source": [
    "# Alternating Sum"
   ]
  },
  {
   "cell_type": "code",
   "execution_count": 4,
   "id": "ac8a1252-04b5-4257-8303-adaf46d0b191",
   "metadata": {},
   "outputs": [
    {
     "name": "stdin",
     "output_type": "stream",
     "text": [
      "Enter the Sacred number:  5\n"
     ]
    },
    {
     "name": "stdout",
     "output_type": "stream",
     "text": [
      "\n",
      "[[1, 1, 1, 1], [1, 1, 2, 2], [1, 1, 3, 3], [1, 1, 4, 4], [1, 1, 5, 5], [1, 2, 2, 1], [1, 2, 3, 2], [1, 2, 4, 3], [1, 2, 5, 4], [1, 3, 3, 1], [1, 3, 4, 2], [1, 3, 5, 3], [1, 4, 4, 1], [1, 4, 5, 2], [1, 5, 5, 1], [2, 1, 1, 2], [2, 1, 2, 3], [2, 1, 3, 4], [2, 1, 4, 5], [2, 2, 1, 1], [2, 2, 2, 2], [2, 2, 3, 3], [2, 2, 4, 4], [2, 2, 5, 5], [2, 3, 2, 1], [2, 3, 3, 2], [2, 3, 4, 3], [2, 3, 5, 4], [2, 4, 3, 1], [2, 4, 4, 2], [2, 4, 5, 3], [2, 5, 4, 1], [2, 5, 5, 2], [3, 1, 1, 3], [3, 1, 2, 4], [3, 1, 3, 5], [3, 2, 1, 2], [3, 2, 2, 3], [3, 2, 3, 4], [3, 2, 4, 5], [3, 3, 1, 1], [3, 3, 2, 2], [3, 3, 3, 3], [3, 3, 4, 4], [3, 3, 5, 5], [3, 4, 2, 1], [3, 4, 3, 2], [3, 4, 4, 3], [3, 4, 5, 4], [3, 5, 3, 1], [3, 5, 4, 2], [3, 5, 5, 3], [4, 1, 1, 4], [4, 1, 2, 5], [4, 2, 1, 3], [4, 2, 2, 4], [4, 2, 3, 5], [4, 3, 1, 2], [4, 3, 2, 3], [4, 3, 3, 4], [4, 3, 4, 5], [4, 4, 1, 1], [4, 4, 2, 2], [4, 4, 3, 3], [4, 4, 4, 4], [4, 4, 5, 5], [4, 5, 2, 1], [4, 5, 3, 2], [4, 5, 4, 3], [4, 5, 5, 4], [5, 1, 1, 5], [5, 2, 1, 4], [5, 2, 2, 5], [5, 3, 1, 3], [5, 3, 2, 4], [5, 3, 3, 5], [5, 4, 1, 2], [5, 4, 2, 3], [5, 4, 3, 4], [5, 4, 4, 5], [5, 5, 1, 1], [5, 5, 2, 2], [5, 5, 3, 3], [5, 5, 4, 4], [5, 5, 5, 5]]\n",
      "\n",
      "There are 85 valid Chains of Alternating Sum from 1 to 5\n"
     ]
    }
   ],
   "source": [
    "# TASK -- How many such valid chains exist\n",
    "\n",
    "entry = int(input(\"Enter the Sacred number: \"))\n",
    "n = entry + 1   # Because of inclusivity of N(input)\n",
    "validChain = []\n",
    "for a in range(1,n):\n",
    "    for b in range(1,n):\n",
    "        for c in range(1,n):\n",
    "            for d in range(1,n):\n",
    "                if a - b + c - d == 0:\n",
    "                    myList = [a,b,c,d]\n",
    "                    validChain.append(myList)\n",
    "if validChain[0] == ' ':\n",
    "    print(f\"\\nNo valid chains could be derived\")\n",
    "else:\n",
    "    print(f\"\\n{validChain}\")\n",
    "    print(f\"\\nThere are {len(validChain)} valid Chains of Alternating Sum from 1 to {entry}\")"
   ]
  },
  {
   "cell_type": "code",
   "execution_count": null,
   "id": "d04b5206-96d0-454b-8f38-3c8465d51f30",
   "metadata": {},
   "outputs": [],
   "source": []
  }
 ],
 "metadata": {
  "kernelspec": {
   "display_name": "Python 3 (ipykernel)",
   "language": "python",
   "name": "python3"
  },
  "language_info": {
   "codemirror_mode": {
    "name": "ipython",
    "version": 3
   },
   "file_extension": ".py",
   "mimetype": "text/x-python",
   "name": "python",
   "nbconvert_exporter": "python",
   "pygments_lexer": "ipython3",
   "version": "3.12.7"
  }
 },
 "nbformat": 4,
 "nbformat_minor": 5
}
