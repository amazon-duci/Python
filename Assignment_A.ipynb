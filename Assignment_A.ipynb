{
 "cells": [
  {
   "cell_type": "markdown",
   "id": "ad5b586b-45f3-4fda-9082-95981c4c4a96",
   "metadata": {},
   "source": [
    "# A simple Calculator"
   ]
  },
  {
   "cell_type": "code",
   "execution_count": 3,
   "id": "36f6614b-dd4e-49b0-aad6-4fa44d2f221f",
   "metadata": {},
   "outputs": [
    {
     "name": "stdin",
     "output_type": "stream",
     "text": [
      "Enter the first Number:  20\n",
      "\n",
      "Enter the Operator:\n",
      "Hint: Add(+), sub(-), mul(*), Div(/), mod(%), IntDiv(//):  +\n",
      "\n",
      "Enter the Second Number:  115\n"
     ]
    },
    {
     "name": "stdout",
     "output_type": "stream",
     "text": [
      "\n",
      "20.0 + 115.0 = 135.0\n"
     ]
    }
   ],
   "source": [
    "# a variable holding the operating symbols\n",
    "operators = ['-','+','*','/','%','//']\n",
    "num1 = float(input('Enter the first Number: '))  #This collects the first number\n",
    "op = input('\\nEnter the Operator:\\nHint: Add(+), sub(-), mul(*), Div(/), mod(%), IntDiv(//): ')\n",
    "num2 = ''\n",
    "for i in operators:\n",
    "    if op not in operators:     # This checks if the operator selected by the user is a valid operator\n",
    "        print('\\nPlease input a valid operator')\n",
    "        op = input('\\nEnter the Operator:\\nHint: Add(+), sub(-), mul(*), Div(/), mod(%), IntDiv(//): ')\n",
    "    else:\n",
    "        num2 = float(input('\\nEnter the Second Number: '))  #This collects and assigns the second number to num2\n",
    "        break\n",
    "# The Operations determinants\n",
    "if op == '+':\n",
    "    print(f\"\\n{num1} + {num2} = {num1 + num2}\")\n",
    "elif op == '-':\n",
    "    print(f\"\\n{num1} - {num2} = {num1 - num2}\")\n",
    "elif op == '*':\n",
    "    print(f\"\\n{num1} * {num2} = {num1 * num2}\")\n",
    "elif op == '/':\n",
    "    print(f\"\\n{num1} / {num2} = {num1 / num2}\")\n",
    "elif op == '//':\n",
    "    print(f\"\\n{num1} // {num2} = {num1 // num2}\")\n",
    "elif op == '%':\n",
    "    print(f\"\\n{num1} % {num2} = {num1 % num2}\")\n",
    "else:\n",
    "    print('\\nError in calculation')  "
   ]
  },
  {
   "cell_type": "code",
   "execution_count": null,
   "id": "64993395-17a7-40c3-8151-39e18336edeb",
   "metadata": {},
   "outputs": [],
   "source": []
  }
 ],
 "metadata": {
  "kernelspec": {
   "display_name": "Python 3 (ipykernel)",
   "language": "python",
   "name": "python3"
  },
  "language_info": {
   "codemirror_mode": {
    "name": "ipython",
    "version": 3
   },
   "file_extension": ".py",
   "mimetype": "text/x-python",
   "name": "python",
   "nbconvert_exporter": "python",
   "pygments_lexer": "ipython3",
   "version": "3.12.7"
  }
 },
 "nbformat": 4,
 "nbformat_minor": 5
}
