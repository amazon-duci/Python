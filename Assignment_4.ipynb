{
 "cells": [
  {
   "cell_type": "markdown",
   "id": "868d9283-ddb3-49e8-a36b-7ca8cc06ed99",
   "metadata": {},
   "source": [
    "# Librarian's Palindrome chain"
   ]
  },
  {
   "cell_type": "code",
   "execution_count": null,
   "id": "743588a6-4ab3-4e7b-a666-b2c53cad46d7",
   "metadata": {},
   "outputs": [],
   "source": [
    "wordCount = int(input(\"How many words are expected to be in the list? \"))\n",
    "palinPair = []\n",
    "words = []\n",
    "\n",
    "# Collect the words for the list\n",
    "for i in range(wordCount):\n",
    "    wd = input(f\"Enter word {i+1}: \")\n",
    "    wd.lower().strip() # lower the case and remove extra spaces   \n",
    "    words.append(wd)\n",
    "\n",
    "# Check all unique combinations of 2 words to form a palindrome\n",
    "for wordA in words:\n",
    "    for wordB in words:\n",
    "        if wordA == wordB[::-1]:\n",
    "            palinPair.append((wordA, wordB))\n",
    "                    \n",
    "# print(f\"\\nitems = {words}\")\n",
    "# print(f\"\\nitems = {palinPair}\")\n",
    "print(f\"\\nTotal Palindrome Pairs: {len(palinPair)}\")"
   ]
  },
  {
   "cell_type": "code",
   "execution_count": null,
   "id": "f652865b-3e6a-4b26-81d7-f2cd8bddf6e7",
   "metadata": {},
   "outputs": [],
   "source": []
  }
 ],
 "metadata": {
  "kernelspec": {
   "display_name": "Python 3 (ipykernel)",
   "language": "python",
   "name": "python3"
  },
  "language_info": {
   "codemirror_mode": {
    "name": "ipython",
    "version": 3
   },
   "file_extension": ".py",
   "mimetype": "text/x-python",
   "name": "python",
   "nbconvert_exporter": "python",
   "pygments_lexer": "ipython3",
   "version": "3.12.7"
  }
 },
 "nbformat": 4,
 "nbformat_minor": 5
}
