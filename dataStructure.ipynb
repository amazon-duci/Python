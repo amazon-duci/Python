{
 "cells": [
  {
   "cell_type": "markdown",
   "id": "b686264d-2165-4d76-b4cf-d889359c73f7",
   "metadata": {},
   "source": [
    "# Data structures\n",
    "### List\n",
    "### Tuple\n",
    "### Dictionary"
   ]
  },
  {
   "cell_type": "code",
   "execution_count": 1,
   "id": "cbc2682b-b2b9-4c87-8f56-68cf7c39a9ad",
   "metadata": {},
   "outputs": [
    {
     "data": {
      "text/plain": [
       "[1, 2, 3, 4, 5]"
      ]
     },
     "execution_count": 1,
     "metadata": {},
     "output_type": "execute_result"
    }
   ],
   "source": [
    "myList = [1,2,3,4,5]\n",
    "myList"
   ]
  },
  {
   "cell_type": "code",
   "execution_count": 2,
   "id": "725a20c1-af89-45c5-a104-a3c13cf4eda7",
   "metadata": {},
   "outputs": [
    {
     "data": {
      "text/plain": [
       "5"
      ]
     },
     "execution_count": 2,
     "metadata": {},
     "output_type": "execute_result"
    }
   ],
   "source": [
    "myList[-1]"
   ]
  },
  {
   "cell_type": "code",
   "execution_count": 3,
   "id": "d059fae1-fbe8-454d-bef7-ee3d4101f32d",
   "metadata": {},
   "outputs": [
    {
     "data": {
      "text/plain": [
       "['innocentchekwube04', 'gmail.com']"
      ]
     },
     "execution_count": 3,
     "metadata": {},
     "output_type": "execute_result"
    }
   ],
   "source": [
    "myMail = \"innocentchekwube04@gmail.com\"\n",
    "myString = myMail.split(\"@\")\n",
    "myString"
   ]
  },
  {
   "cell_type": "code",
   "execution_count": 4,
   "id": "439bc07d-e276-48cb-98bc-1a5a2b20d90c",
   "metadata": {},
   "outputs": [
    {
     "name": "stdout",
     "output_type": "stream",
     "text": [
      "Your Email Address innocentchekwube04@gmail.com, is in range\n"
     ]
    }
   ],
   "source": [
    "if 0 < len(myString[0]) <= 231:\n",
    "    print(f\"Your Email Address {myMail}, is in range\")\n",
    "else:\n",
    "    print(f\"Your Email Address {myMail}, is out of range\")"
   ]
  },
  {
   "cell_type": "markdown",
   "id": "e15cc72b-fff4-40c6-a401-1d5ef872ee25",
   "metadata": {},
   "source": [
    "## Append"
   ]
  },
  {
   "cell_type": "code",
   "execution_count": 5,
   "id": "0e1de5c7-a167-4bc5-847c-abd335007ba5",
   "metadata": {},
   "outputs": [
    {
     "data": {
      "text/plain": [
       "[1, 2, 3, 4, 5, 6]"
      ]
     },
     "execution_count": 5,
     "metadata": {},
     "output_type": "execute_result"
    }
   ],
   "source": [
    "# Append to add to the back\n",
    "myList.append(6)\n",
    "myList"
   ]
  },
  {
   "cell_type": "markdown",
   "id": "8963af20-24ab-4794-8284-7e29db9ab4b0",
   "metadata": {},
   "source": [
    "## Insert\n"
   ]
  },
  {
   "cell_type": "code",
   "execution_count": 6,
   "id": "5d7cffea-8e2b-4416-a378-83251bfa6fbe",
   "metadata": {},
   "outputs": [
    {
     "data": {
      "text/plain": [
       "[1, 2, 3, 'innocent', 4, 5, 6]"
      ]
     },
     "execution_count": 6,
     "metadata": {},
     "output_type": "execute_result"
    }
   ],
   "source": [
    "# Insert to specific index (Two arguments, first = index, second = value)\n",
    "myList.insert(3, \"innocent\")\n",
    "myList\n"
   ]
  },
  {
   "cell_type": "markdown",
   "id": "1255e5a9-b892-4569-aac9-087ea7718873",
   "metadata": {},
   "source": [
    "## Extend"
   ]
  },
  {
   "cell_type": "code",
   "execution_count": 7,
   "id": "c0de7dca-3393-4442-8370-4eaaef64bba0",
   "metadata": {},
   "outputs": [
    {
     "data": {
      "text/plain": [
       "[1, 2, 3, 'innocent', 4, 5, 6, 7, 8]"
      ]
     },
     "execution_count": 7,
     "metadata": {},
     "output_type": "execute_result"
    }
   ],
   "source": [
    "# Adding multiple things at a time, but passed as a list\n",
    "myList.extend([7,8])\n",
    "myList"
   ]
  },
  {
   "cell_type": "markdown",
   "id": "0654a51b-4cc3-4774-b4f7-625ad3d87167",
   "metadata": {},
   "source": [
    "## Apend"
   ]
  },
  {
   "cell_type": "code",
   "execution_count": 8,
   "id": "eef57957-b50f-41bb-8208-3552ba1433ec",
   "metadata": {},
   "outputs": [
    {
     "data": {
      "text/plain": [
       "[1, 2, 3, 'innocent', 4, 5, 6, 7, 8, 55]"
      ]
     },
     "execution_count": 8,
     "metadata": {},
     "output_type": "execute_result"
    }
   ],
   "source": [
    "# Adding the element as a list\n",
    "myList.append(55)\n",
    "myList"
   ]
  },
  {
   "cell_type": "code",
   "execution_count": 9,
   "id": "f55290a6-72a8-43fd-bf6c-5969e9156de7",
   "metadata": {},
   "outputs": [
    {
     "data": {
      "text/plain": [
       "[1, 2, 3, 4, 5, 6, 7, 8, 55]"
      ]
     },
     "execution_count": 9,
     "metadata": {},
     "output_type": "execute_result"
    }
   ],
   "source": [
    "myList.remove(\"innocent\")\n",
    "myList"
   ]
  },
  {
   "cell_type": "code",
   "execution_count": 10,
   "id": "fa28a393-1bbb-4789-b423-0153ef5e0af2",
   "metadata": {},
   "outputs": [
    {
     "data": {
      "text/plain": [
       "2"
      ]
     },
     "execution_count": 10,
     "metadata": {},
     "output_type": "execute_result"
    }
   ],
   "source": [
    "myList.index(3)"
   ]
  },
  {
   "cell_type": "code",
   "execution_count": 11,
   "id": "1b742eb7-dbf1-4008-bba7-375411f2a07a",
   "metadata": {},
   "outputs": [
    {
     "data": {
      "text/plain": [
       "[1, 2, 25, 3, 4, 5, 6, 7, 8, 55]"
      ]
     },
     "execution_count": 11,
     "metadata": {},
     "output_type": "execute_result"
    }
   ],
   "source": [
    "myList.insert(2, 25)\n",
    "myList"
   ]
  },
  {
   "cell_type": "code",
   "execution_count": 12,
   "id": "f2e54e8b-2663-4c41-9ef1-f5d50718e2fc",
   "metadata": {},
   "outputs": [
    {
     "data": {
      "text/plain": [
       "[1, 2, 3, 4, 5, 6, 7, 8, 25, 55]"
      ]
     },
     "execution_count": 12,
     "metadata": {},
     "output_type": "execute_result"
    }
   ],
   "source": [
    "myList.sort()\n",
    "myList"
   ]
  },
  {
   "cell_type": "code",
   "execution_count": 13,
   "id": "173ac5a4-65a3-490c-be16-5667a985ca38",
   "metadata": {},
   "outputs": [
    {
     "data": {
      "text/plain": [
       "['a', 'S', 'A', 'f', 'b', 'Z']"
      ]
     },
     "execution_count": 13,
     "metadata": {},
     "output_type": "execute_result"
    }
   ],
   "source": [
    "myString = ['a','S','A','f','b','Z']\n",
    "myString"
   ]
  },
  {
   "cell_type": "code",
   "execution_count": 14,
   "id": "65e626d7-b498-4130-bc94-03b88cd6a221",
   "metadata": {},
   "outputs": [
    {
     "data": {
      "text/plain": [
       "['A', 'S', 'Z', 'a', 'b', 'f']"
      ]
     },
     "execution_count": 14,
     "metadata": {},
     "output_type": "execute_result"
    }
   ],
   "source": [
    "# in string sorting, capital letters are less than small letters\n",
    "myString.sort()\n",
    "myString"
   ]
  },
  {
   "cell_type": "code",
   "execution_count": 15,
   "id": "cc7cf488-7c73-4359-9fb0-677541ab2636",
   "metadata": {},
   "outputs": [
    {
     "data": {
      "text/plain": [
       "90"
      ]
     },
     "execution_count": 15,
     "metadata": {},
     "output_type": "execute_result"
    }
   ],
   "source": [
    "ord(\"Z\")"
   ]
  },
  {
   "cell_type": "code",
   "execution_count": 16,
   "id": "822f1fb1-18aa-4dab-ae29-5779f2b4cf0c",
   "metadata": {},
   "outputs": [
    {
     "data": {
      "text/plain": [
       "'0b1111010'"
      ]
     },
     "execution_count": 16,
     "metadata": {},
     "output_type": "execute_result"
    }
   ],
   "source": [
    "bin(ord(\"z\"))"
   ]
  },
  {
   "cell_type": "code",
   "execution_count": 17,
   "id": "cfe1536b-1150-439e-b1cb-07fbc3dfd13f",
   "metadata": {},
   "outputs": [],
   "source": [
    "# To reverse the list but without sorting\n",
    "myList.reverse()   # which can be done with slicing myList[::-1]"
   ]
  },
  {
   "cell_type": "code",
   "execution_count": 18,
   "id": "60f9e2b5-94f7-4cfe-ac9c-02d67cd4b551",
   "metadata": {},
   "outputs": [
    {
     "data": {
      "text/plain": [
       "[55, 25, 8, 7, 6, 5, 4, 3, 2, 1]"
      ]
     },
     "execution_count": 18,
     "metadata": {},
     "output_type": "execute_result"
    }
   ],
   "source": [
    "# To sort in descending order\n",
    "myList.sort(reverse = True)\n",
    "myList"
   ]
  },
  {
   "cell_type": "code",
   "execution_count": 19,
   "id": "da7e1269-204b-441f-8478-317640aff46f",
   "metadata": {},
   "outputs": [
    {
     "data": {
      "text/plain": [
       "[55, 25, 8, 7, 6, 5, 4, 3, 2, 1]"
      ]
     },
     "execution_count": 19,
     "metadata": {},
     "output_type": "execute_result"
    }
   ],
   "source": [
    "# To make a copy of a list\n",
    "newList = myList.copy()\n",
    "newList"
   ]
  },
  {
   "cell_type": "code",
   "execution_count": 20,
   "id": "371785da-19a9-4b86-8415-7382289c1b77",
   "metadata": {},
   "outputs": [
    {
     "data": {
      "text/plain": [
       "[1, 2, 3, 4, 5, 6, 7, 8, 25, 55]"
      ]
     },
     "execution_count": 20,
     "metadata": {},
     "output_type": "execute_result"
    }
   ],
   "source": [
    "newList.reverse()\n",
    "newList"
   ]
  },
  {
   "cell_type": "code",
   "execution_count": 21,
   "id": "8acd3dfb-2699-4ebe-88ce-8a05bcfb5ad7",
   "metadata": {},
   "outputs": [
    {
     "data": {
      "text/plain": [
       "1"
      ]
     },
     "execution_count": 21,
     "metadata": {},
     "output_type": "execute_result"
    }
   ],
   "source": [
    "newList.count(3)"
   ]
  },
  {
   "cell_type": "markdown",
   "id": "c8de9636-4c50-496f-b07b-3b83dea3906d",
   "metadata": {},
   "source": [
    "# LOOPS"
   ]
  },
  {
   "cell_type": "code",
   "execution_count": 22,
   "id": "caf2c7e4-8020-46f7-9529-5c9bfcc314a2",
   "metadata": {},
   "outputs": [],
   "source": [
    "fruits = ['mango', 'apple', 'carrot', 'apricot', 'cherry']"
   ]
  },
  {
   "cell_type": "code",
   "execution_count": 23,
   "id": "23609654-3989-4e0b-91e8-ca4c92f80055",
   "metadata": {},
   "outputs": [
    {
     "name": "stdout",
     "output_type": "stream",
     "text": [
      "mango\n",
      "apple\n",
      "carrot\n",
      "apricot\n",
      "cherry\n"
     ]
    }
   ],
   "source": [
    "# For loop\n",
    "for fruit in fruits:\n",
    "    print(fruit)"
   ]
  },
  {
   "cell_type": "code",
   "execution_count": 24,
   "id": "e5df4d53-348d-4a70-a331-cc79c281822b",
   "metadata": {},
   "outputs": [
    {
     "name": "stdout",
     "output_type": "stream",
     "text": [
      "0 is an even number\n",
      "2 is an even number\n",
      "4 is an even number\n",
      "6 is an even number\n",
      "8 is an even number\n",
      "10 is an even number\n"
     ]
    }
   ],
   "source": [
    "for i in range(11):\n",
    "    if i%2 == 0:\n",
    "        print(f\"{i} is an even number\")\n",
    "    \n"
   ]
  },
  {
   "cell_type": "code",
   "execution_count": 25,
   "id": "22c2360a-fa9b-43f9-b72a-7ff03a4c5db1",
   "metadata": {},
   "outputs": [
    {
     "name": "stdout",
     "output_type": "stream",
     "text": [
      "1 is an odd number\n",
      "3 is an odd number\n",
      "5 is an odd number\n",
      "7 is an odd number\n",
      "9 is an odd number\n"
     ]
    }
   ],
   "source": [
    "for i in range(11):\n",
    "    if i%2 == 1:\n",
    "        print(f\"{i} is an odd number\")"
   ]
  },
  {
   "cell_type": "code",
   "execution_count": 26,
   "id": "2c5a1f06-dbd9-4090-83af-60d7a3309d74",
   "metadata": {},
   "outputs": [
    {
     "name": "stdout",
     "output_type": "stream",
     "text": [
      "2  A PRIME NUMBER\n",
      "3  A PRIME NUMBER\n",
      "5  A PRIME NUMBER\n",
      "7  A PRIME NUMBER\n",
      "11  A PRIME NUMBER\n",
      "13  A PRIME NUMBER\n",
      "17  A PRIME NUMBER\n",
      "19  A PRIME NUMBER\n",
      "23  A PRIME NUMBER\n",
      "29  A PRIME NUMBER\n",
      "31  A PRIME NUMBER\n",
      "37  A PRIME NUMBER\n",
      "41  A PRIME NUMBER\n",
      "43  A PRIME NUMBER\n",
      "47  A PRIME NUMBER\n",
      "53  A PRIME NUMBER\n",
      "59  A PRIME NUMBER\n",
      "61  A PRIME NUMBER\n",
      "67  A PRIME NUMBER\n",
      "71  A PRIME NUMBER\n",
      "73  A PRIME NUMBER\n",
      "79  A PRIME NUMBER\n",
      "83  A PRIME NUMBER\n",
      "89  A PRIME NUMBER\n",
      "97  A PRIME NUMBER\n",
      "\n",
      "\n",
      "Total prime numbers from 1 to 101 is 25\n"
     ]
    }
   ],
   "source": [
    "num = 101\n",
    "count = 0\n",
    "for i in range(num):\n",
    "    if i < 2:\n",
    "        continue\n",
    "    for j in range(2, i):\n",
    "        if i % j == 0:\n",
    "            # print(i, \" is not a prime number\")\n",
    "            break\n",
    "    else:\n",
    "        print(i, \" A PRIME NUMBER\")\n",
    "        count += 1\n",
    "print(f\"\\n\\nTotal prime numbers from 1 to {num} is {count}\")"
   ]
  },
  {
   "cell_type": "code",
   "execution_count": 27,
   "id": "7627ca36-304c-4540-ae48-353310a7b1d2",
   "metadata": {},
   "outputs": [],
   "source": [
    "def generateFibonacci(a,b,n):\n",
    "    sequence = [a,b]\n",
    "    while len(sequence) < n:\n",
    "        sequence.append(sequence[-1] + sequence[-2])\n",
    "    return sequence"
   ]
  },
  {
   "cell_type": "code",
   "execution_count": 28,
   "id": "aa6a3de7-2538-437c-9a80-b7f93ee01377",
   "metadata": {},
   "outputs": [
    {
     "data": {
      "text/plain": [
       "[2, 3, 5, 8, 13, 21, 34, 55, 89, 144]"
      ]
     },
     "execution_count": 28,
     "metadata": {},
     "output_type": "execute_result"
    }
   ],
   "source": [
    "# Using this method, first parameter is first number, second parameter is second number, third parameter is the number of sequence\n",
    "generateFibonacci(2,3,10)"
   ]
  },
  {
   "cell_type": "markdown",
   "id": "2fd2dcc0-d930-4c57-b0eb-e3e9b5ded89c",
   "metadata": {},
   "source": [
    "## Class"
   ]
  },
  {
   "cell_type": "code",
   "execution_count": 29,
   "id": "f75fa7a1-cdce-4317-9e94-7e13997daa5f",
   "metadata": {},
   "outputs": [],
   "source": [
    "givenString = \"lorem ipsum dolor! diam amet, consetetur lorem magma. sed diam nonumy eirmod tempor. diam et labore? et diam amet.\""
   ]
  },
  {
   "cell_type": "code",
   "execution_count": 30,
   "id": "a5367830-fc83-4810-bd05-dd071e6c478c",
   "metadata": {},
   "outputs": [],
   "source": [
    "# TextAnalyzer class\n",
    "class TextAnalyzer(object):\n",
    "    def __init__(self,text):\n",
    "        # remove all punctuation\n",
    "        formattedText = text.replace(',', '').replace('.','').replace('!','').replace('?','')\n",
    "        # to lowercase\n",
    "        formattedText.lower()\n",
    "        self.fmtText = formattedText\n",
    "\n",
    "    # A function to count the frequency of each word\n",
    "    def allFreqCount(self):\n",
    "        # Split text into words\n",
    "        wordSplit = self.fmtText.split(' ')\n",
    "        wordDict = {}\n",
    "        for word in set(wordSplit):  # set removes duplicates\n",
    "            wordDict[word] = wordSplit.count(word)\n",
    "        return wordDict\n",
    "\n",
    "    # A function to count frequency of specific word\n",
    "    def freqOf(self,word):\n",
    "        freqDict = self.allFreqCount()\n",
    "        if word in freqDict:\n",
    "            return freqDict[word]\n",
    "        else:\n",
    "            return 0"
   ]
  },
  {
   "cell_type": "code",
   "execution_count": 31,
   "id": "03e7537f-0cb4-464a-857d-dc1ce430019a",
   "metadata": {},
   "outputs": [],
   "source": [
    "analyzeWord = TextAnalyzer(givenString)"
   ]
  },
  {
   "cell_type": "code",
   "execution_count": 32,
   "id": "3c28d697-3d2c-4280-aae8-eab11ad71e5f",
   "metadata": {},
   "outputs": [
    {
     "name": "stdout",
     "output_type": "stream",
     "text": [
      "lorem ipsum dolor diam amet consetetur lorem magma sed diam nonumy eirmod tempor diam et labore et diam amet\n"
     ]
    }
   ],
   "source": [
    "print(analyzeWord.fmtText)"
   ]
  },
  {
   "cell_type": "code",
   "execution_count": 33,
   "id": "a31ea21d-5675-483e-979c-f772d1a9bcb3",
   "metadata": {},
   "outputs": [
    {
     "name": "stdout",
     "output_type": "stream",
     "text": [
      "{'diam': 4, 'sed': 1, 'amet': 2, 'consetetur': 1, 'labore': 1, 'et': 2, 'magma': 1, 'ipsum': 1, 'tempor': 1, 'lorem': 2, 'dolor': 1, 'nonumy': 1, 'eirmod': 1}\n"
     ]
    }
   ],
   "source": [
    "print(analyzeWord.allFreqCount())"
   ]
  },
  {
   "cell_type": "code",
   "execution_count": 34,
   "id": "a6bf6e1b-1e37-4304-b694-78aa0e589584",
   "metadata": {},
   "outputs": [
    {
     "name": "stdout",
     "output_type": "stream",
     "text": [
      "2\n"
     ]
    }
   ],
   "source": [
    "print(analyzeWord.freqOf(\"lorem\"))"
   ]
  },
  {
   "cell_type": "code",
   "execution_count": 35,
   "id": "4d36cc78-9dfa-4363-a094-bb8f368c377a",
   "metadata": {},
   "outputs": [
    {
     "name": "stdout",
     "output_type": "stream",
     "text": [
      "dict_keys(['diam', 'sed', 'amet', 'consetetur', 'labore', 'et', 'magma', 'ipsum', 'tempor', 'lorem', 'dolor', 'nonumy', 'eirmod'])\n"
     ]
    }
   ],
   "source": [
    "print(analyzeWord.allFreqCount().keys())"
   ]
  },
  {
   "cell_type": "code",
   "execution_count": 36,
   "id": "1070d8d9-9a89-49c9-a64a-4a2e7ecfb43f",
   "metadata": {},
   "outputs": [],
   "source": [
    "def checkPalindrome(text):\n",
    "    txtCast = str(text)\n",
    "    textFmt = txtCast.lower()\n",
    "    arr = list(textFmt)\n",
    "    arrReverse = arr.copy()\n",
    "    arrReverse.reverse()\n",
    "    if arr == arrReverse:\n",
    "        return (text, \"is a Palindrome\")\n",
    "    else:\n",
    "        return (text, \"is not a Palindrome\")\n",
    "        "
   ]
  },
  {
   "cell_type": "code",
   "execution_count": 37,
   "id": "de5decc7-00d5-44d9-a8f5-a8009f80a498",
   "metadata": {},
   "outputs": [
    {
     "name": "stdout",
     "output_type": "stream",
     "text": [
      "('Hannah', 'is a Palindrome')\n"
     ]
    }
   ],
   "source": [
    "print(checkPalindrome(\"Hannah\"))"
   ]
  },
  {
   "cell_type": "code",
   "execution_count": 38,
   "id": "83da4771-e2cc-4061-a4c1-f1d43073bb3a",
   "metadata": {},
   "outputs": [
    {
     "name": "stdout",
     "output_type": "stream",
     "text": [
      "number 1 to 8 is Group 1\n",
      "number 9 to 16 is Group 2\n",
      "number 17 to 24 is Group 3\n",
      "number 25 to 32 is Group 4\n",
      "number 33 to 40 is Group 5\n",
      "number 41 to 48 is Group 6\n",
      "number 49 to 56 is Group 7\n",
      "number 57 to 64 is Group 8\n",
      "number 65 to 72 is Group 9\n",
      "number 73 to 80 is Group 10\n"
     ]
    }
   ],
   "source": [
    "count = 0\n",
    "for i in range(1,81):\n",
    "    if i % 8 == 0:\n",
    "        count += 1\n",
    "        print(f\"number {i - 7} to {i} is Group {count}\")"
   ]
  },
  {
   "cell_type": "code",
   "execution_count": 39,
   "id": "1cbeebe3-7c25-4acd-8f3f-90a72a499898",
   "metadata": {},
   "outputs": [
    {
     "name": "stdout",
     "output_type": "stream",
     "text": [
      "\n",
      "*\n",
      "**\n",
      "***\n",
      "****\n",
      "*****\n",
      "******\n",
      "*******\n",
      "********\n",
      "*********\n",
      "**********\n",
      "***********\n",
      "************\n",
      "*************\n",
      "**************\n"
     ]
    }
   ],
   "source": [
    "for i in range(15):\n",
    "    print(\"*\" * i)"
   ]
  },
  {
   "cell_type": "code",
   "execution_count": 40,
   "id": "87bf771f-f73f-435f-8cac-1d899b90cb8f",
   "metadata": {},
   "outputs": [
    {
     "name": "stdout",
     "output_type": "stream",
     "text": [
      "[216, 432, 648, 864]\n",
      "\n",
      "We have a total of 4\n"
     ]
    }
   ],
   "source": [
    "myList = []\n",
    "count = 0\n",
    "for i in range(100, 1000):\n",
    "    if i % 24 == 0 and i % 27 == 0:\n",
    "        count += 1 \n",
    "        myList.append(i)\n",
    "print(myList)\n",
    "print(f\"\\nWe have a total of {count}\")"
   ]
  },
  {
   "cell_type": "code",
   "execution_count": null,
   "id": "3a21ab21-21a0-4bd6-804f-2fcd3dfac0ca",
   "metadata": {},
   "outputs": [],
   "source": []
  }
 ],
 "metadata": {
  "kernelspec": {
   "display_name": "Python 3 (ipykernel)",
   "language": "python",
   "name": "python3"
  },
  "language_info": {
   "codemirror_mode": {
    "name": "ipython",
    "version": 3
   },
   "file_extension": ".py",
   "mimetype": "text/x-python",
   "name": "python",
   "nbconvert_exporter": "python",
   "pygments_lexer": "ipython3",
   "version": "3.12.7"
  }
 },
 "nbformat": 4,
 "nbformat_minor": 5
}
