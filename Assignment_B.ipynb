{
 "cells": [
  {
   "cell_type": "markdown",
   "id": "bf510fe3-631b-4f4a-b5d4-5a3ee5849efb",
   "metadata": {},
   "source": [
    "# Pythagoras Theorem"
   ]
  },
  {
   "cell_type": "code",
   "execution_count": 4,
   "id": "194bf52f-eacf-4130-8d7c-1b0c6f387a5d",
   "metadata": {},
   "outputs": [
    {
     "name": "stdin",
     "output_type": "stream",
     "text": [
      "Enter the Number of houses:  30\n"
     ]
    },
    {
     "name": "stdout",
     "output_type": "stream",
     "text": [
      "\n",
      "There are 22 valid sets of special group from 1 to 30\n"
     ]
    }
   ],
   "source": [
    "# houses from 1 to N\n",
    "# find HOW MANY sets of 3 houses >> special group\n",
    "# where the sum of the squares of 2 smaller house numbers = the square of the largest house number\n",
    "\n",
    "entry = int(input(\"Enter the Number of houses: \"))\n",
    "n = entry + 1  # Because of inclusivity of the N(input)\n",
    "specialList = []\n",
    "for i in range(1, n):\n",
    "    for j in range(1, n):\n",
    "        for k in range(1, n):\n",
    "            if i ** 2 + j ** 2 == k ** 2:\n",
    "                myList = [i,j,k]\n",
    "                specialList.append(myList)\n",
    "if len(specialList) == 0:\n",
    "    print(f\"\\nNo Set of special groups could be derived from 1 to {entry}\")\n",
    "else:\n",
    "    # print(f\"\\n{specialList}\")\n",
    "    print(f\"\\nThere are {len(specialList)} valid sets of special group from 1 to {entry}\")"
   ]
  },
  {
   "cell_type": "code",
   "execution_count": null,
   "id": "84907f48-a643-47f7-86e6-8003ffc23005",
   "metadata": {},
   "outputs": [],
   "source": []
  }
 ],
 "metadata": {
  "kernelspec": {
   "display_name": "Python 3 (ipykernel)",
   "language": "python",
   "name": "python3"
  },
  "language_info": {
   "codemirror_mode": {
    "name": "ipython",
    "version": 3
   },
   "file_extension": ".py",
   "mimetype": "text/x-python",
   "name": "python",
   "nbconvert_exporter": "python",
   "pygments_lexer": "ipython3",
   "version": "3.12.7"
  }
 },
 "nbformat": 4,
 "nbformat_minor": 5
}
